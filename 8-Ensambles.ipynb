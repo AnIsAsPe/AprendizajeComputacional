{
 "cells": [
  {
   "cell_type": "code",
   "execution_count": null,
   "metadata": {},
   "outputs": [],
   "source": [
    "from sklearn.datasets import load_digits\n",
    "from sklearn.model_selection import KFold\n",
    "from sklearn.svm import LinearSVC\n",
    "from sklearn.model_selection import train_test_split\n",
    "import numpy as np\n",
    "from sklearn.metrics import f1_score"
   ]
  },
  {
   "cell_type": "code",
   "execution_count": null,
   "metadata": {},
   "outputs": [],
   "source": [
    "X, y = load_digits(return_X_y=True)"
   ]
  },
  {
   "cell_type": "code",
   "execution_count": null,
   "metadata": {},
   "outputs": [],
   "source": [
    "kf = KFold(n_splits=10, shuffle=True)"
   ]
  },
  {
   "cell_type": "code",
   "execution_count": null,
   "metadata": {},
   "outputs": [],
   "source": [
    "hy = np.empty_like(y)\n",
    "for tr, vs in kf.split(X):\n",
    "    m = LinearSVC().fit(X[tr], y[tr])\n",
    "    hy[vs] = m.predict(X[vs]) "
   ]
  },
  {
   "cell_type": "code",
   "execution_count": null,
   "metadata": {},
   "outputs": [],
   "source": [
    "lsvc_perf = f1_score(y, hy, average='macro')"
   ]
  },
  {
   "cell_type": "markdown",
   "metadata": {},
   "source": [
    "# Bagging"
   ]
  },
  {
   "cell_type": "code",
   "execution_count": null,
   "metadata": {},
   "outputs": [],
   "source": [
    "hy = np.empty_like(y)\n",
    "for tr, vs in kf.split(X):\n",
    "    models = []\n",
    "    for _ in range(10):\n",
    "        tr1, tr2 = train_test_split(tr, test_size=0.5, shuffle=True)\n",
    "        models.append(LinearSVC().fit(X[tr1], y[tr1]))\n",
    "    hy[vs] = np.array([m.decision_function(X[vs]) for m in models]).mean(axis=0).argmax(axis=1)"
   ]
  },
  {
   "cell_type": "code",
   "execution_count": null,
   "metadata": {},
   "outputs": [],
   "source": [
    "lsvc_perf, f1_score(y, hy, average='macro')"
   ]
  },
  {
   "cell_type": "markdown",
   "metadata": {},
   "source": [
    "# Video\n",
    "* [Video Bagging](https://youtu.be/fi8QVE4pxWw)"
   ]
  },
  {
   "cell_type": "markdown",
   "metadata": {},
   "source": [
    "# Stack Generalization"
   ]
  },
  {
   "cell_type": "code",
   "execution_count": null,
   "metadata": {},
   "outputs": [],
   "source": [
    "from sklearn.naive_bayes import GaussianNB\n",
    "from sklearn.ensemble import RandomForestClassifier\n",
    "from sklearn.linear_model import LogisticRegression"
   ]
  },
  {
   "cell_type": "code",
   "execution_count": null,
   "metadata": {},
   "outputs": [],
   "source": [
    "hy = np.empty_like(y)\n",
    "for tr, vs in kf.split(X):\n",
    "    m = GaussianNB().fit(X[tr], y[tr])\n",
    "    hy[vs] = m.predict(X[vs])"
   ]
  },
  {
   "cell_type": "code",
   "execution_count": null,
   "metadata": {},
   "outputs": [],
   "source": [
    "f1_score(y, hy, average='macro')"
   ]
  },
  {
   "cell_type": "code",
   "execution_count": null,
   "metadata": {},
   "outputs": [],
   "source": [
    "def train(base_cl, X, y):\n",
    "    df = np.empty((X.shape[0], np.unique(y).shape[0]))\n",
    "    kf = KFold(n_splits=10, shuffle=True, random_state=1)\n",
    "    for tr, vs in kf.split(X):\n",
    "        m = base_cl().fit(X[tr], y[tr])\n",
    "        try:\n",
    "            df[vs] = m.predict_proba(X[vs])\n",
    "        except AttributeError:\n",
    "            df[vs] = m.decision_function(X[vs])\n",
    "    return df"
   ]
  },
  {
   "cell_type": "code",
   "execution_count": null,
   "metadata": {},
   "outputs": [],
   "source": [
    "hy_svc = np.empty_like(y)\n",
    "hy_nb = np.empty_like(y)\n",
    "for tr, vs in kf.split(X):\n",
    "    m1 = GaussianNB().fit(X[tr], y[tr])\n",
    "    m2 = LinearSVC().fit(X[tr], y[tr])\n",
    "    hy_svc[vs] = m2.predict(X[vs])\n",
    "    hy_nb[vs] = m1.predict(X[vs])\n",
    "    _ = np.concatenate((train(GaussianNB, X[tr], y[tr]), train(LinearSVC, X[tr], y[tr])), axis=1)\n",
    "    st = RandomForestClassifier().fit(_, y[tr])\n",
    "    _ = np.concatenate((m1.predict_proba(X[vs]), m2.decision_function(X[vs])), axis=1)\n",
    "    hy[vs] = st.predict(_)"
   ]
  },
  {
   "cell_type": "code",
   "execution_count": null,
   "metadata": {},
   "outputs": [],
   "source": [
    "f1_score(y, hy_nb, average='macro'), f1_score(y, hy_svc, average='macro'), f1_score(y, hy, average='macro')"
   ]
  },
  {
   "cell_type": "markdown",
   "metadata": {},
   "source": [
    "# Video\n",
    "* [Video Stack Generalization](https://youtu.be/RSJf49O-IaI)"
   ]
  }
 ],
 "metadata": {
  "kernelspec": {
   "display_name": "Python 3",
   "language": "python",
   "name": "python3"
  },
  "language_info": {
   "codemirror_mode": {
    "name": "ipython",
    "version": 3
   },
   "file_extension": ".py",
   "mimetype": "text/x-python",
   "name": "python",
   "nbconvert_exporter": "python",
   "pygments_lexer": "ipython3",
   "version": "3.7.1"
  }
 },
 "nbformat": 4,
 "nbformat_minor": 2
}
