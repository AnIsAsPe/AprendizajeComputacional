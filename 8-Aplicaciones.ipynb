{
 "cells": [
  {
   "cell_type": "markdown",
   "metadata": {
    "ein.tags": "worksheet-0",
    "slideshow": {
     "slide_type": "slide"
    }
   },
   "source": [
    "# Aprendizaje Computacional  \n",
    "\n",
    "## Mario Graff (mgraffg@ieee.org, mario.graff@infotec.mx)  \n",
    "## [https://github.com/ingeotec](https://github.com/ingeotec)\n",
    "## [https://github.com/mgraffg](https://github.com/mgraffg)\n",
    "## CONACYT - INFOTEC  "
   ]
  },
  {
   "cell_type": "markdown",
   "metadata": {
    "ein.tags": "worksheet-0",
    "slideshow": {
     "slide_type": "subslide"
    }
   },
   "source": [
    "# Temas\n",
    "\n",
    "1. Introducción\n",
    "2. Aprendizaje supervisado\n",
    "3. Métodos paramétricos\n",
    "4. Métodos no-paramétricos\n",
    "5. Máquinas de kernel\n",
    "6. Métodos no convencionales de aprendizaje\n",
    "7. Diseño y análisis de experimentos de aprendizaje\n",
    "8. Aplicaciones"
   ]
  },
  {
   "cell_type": "markdown",
   "metadata": {},
   "source": [
    "# Clasificación de imágenes"
   ]
  },
  {
   "cell_type": "markdown",
   "metadata": {},
   "source": [
    "## Leer los archivos de entrenamiento"
   ]
  },
  {
   "cell_type": "code",
   "execution_count": null,
   "metadata": {},
   "outputs": [],
   "source": [
    "from glob import glob\n",
    "train = glob('data_tarea/train/*/features/*.npy')"
   ]
  },
  {
   "cell_type": "markdown",
   "metadata": {},
   "source": [
    "## Ver una imagen"
   ]
  },
  {
   "cell_type": "code",
   "execution_count": null,
   "metadata": {},
   "outputs": [],
   "source": [
    "%pylab inline\n",
    "from skimage import io\n",
    "img = io.imread('data_tarea/train/forest/image_0063.jpg')\n",
    "_ = io.imshow(img)"
   ]
  },
  {
   "cell_type": "markdown",
   "metadata": {},
   "source": [
    "## Leer los descriptores de cada imagen"
   ]
  },
  {
   "cell_type": "code",
   "execution_count": null,
   "metadata": {},
   "outputs": [],
   "source": [
    "from sklearn import cluster\n",
    "D = [np.load(x) for x in train]"
   ]
  },
  {
   "cell_type": "markdown",
   "metadata": {},
   "source": [
    "## Usar K-Means"
   ]
  },
  {
   "cell_type": "code",
   "execution_count": null,
   "metadata": {},
   "outputs": [],
   "source": [
    "X = np.concatenate(D)"
   ]
  },
  {
   "cell_type": "code",
   "execution_count": null,
   "metadata": {},
   "outputs": [],
   "source": [
    "kmeans = cluster.MiniBatchKMeans(n_clusters=1000, random_state=0, init_size=3000).fit(X)"
   ]
  },
  {
   "cell_type": "code",
   "execution_count": null,
   "metadata": {},
   "outputs": [],
   "source": [
    "import numpy as np\n",
    "r = kmeans.predict(D[10])\n",
    "a = np.histogram(r, bins=np.arange(0, 1001))[0]"
   ]
  },
  {
   "cell_type": "code",
   "execution_count": null,
   "metadata": {},
   "outputs": [],
   "source": [
    "train[0], train[-1]"
   ]
  },
  {
   "cell_type": "code",
   "execution_count": null,
   "metadata": {},
   "outputs": [],
   "source": [
    "a = np.histogram(kmeans.predict(D[0]) , bins=np.arange(0, 1001))[0]\n",
    "b = np.histogram(kmeans.predict(D[-1]) , bins=np.arange(0, 1001))[0]"
   ]
  },
  {
   "cell_type": "code",
   "execution_count": null,
   "metadata": {},
   "outputs": [],
   "source": [
    "plot(a, b, '.')"
   ]
  },
  {
   "cell_type": "markdown",
   "metadata": {},
   "source": [
    "## Crear un clasificador"
   ]
  },
  {
   "cell_type": "code",
   "execution_count": null,
   "metadata": {},
   "outputs": [],
   "source": [
    "Xp = [np.histogram(kmeans.predict(x) , bins=np.arange(0, 1001))[0] for x in D]"
   ]
  },
  {
   "cell_type": "code",
   "execution_count": null,
   "metadata": {},
   "outputs": [],
   "source": [
    "Xp = np.array(Xp)"
   ]
  },
  {
   "cell_type": "code",
   "execution_count": null,
   "metadata": {},
   "outputs": [],
   "source": [
    "from sklearn.preprocessing import LabelEncoder\n",
    "y = [(x.split('/train/')[1]).split('/')[0] for x in train]\n",
    "l = LabelEncoder().fit(y)\n",
    "y = l.transform(y)"
   ]
  },
  {
   "cell_type": "code",
   "execution_count": null,
   "metadata": {},
   "outputs": [],
   "source": [
    "from sklearn.svm import LinearSVC\n",
    "from sklearn.metrics import recall_score\n",
    "from sklearn.model_selection import StratifiedKFold\n",
    "st = StratifiedKFold(n_splits=10, shuffle=True, random_state=0)\n",
    "score = [recall_score(y[vs], LinearSVC().fit(Xp[tr], y[tr]).predict(Xp[vs]), average=None) for tr, vs in st.split(Xp, y)]"
   ]
  },
  {
   "cell_type": "code",
   "execution_count": null,
   "metadata": {},
   "outputs": [],
   "source": [
    "y = [(x.split('/train/')[1]).split('/')[0] for x in train]\n",
    "print(np.unique(y, return_counts=True))\n",
    "np.mean(score, axis=0)\n",
    "# recall_score(y, m.predict(Xp), average=None)"
   ]
  },
  {
   "cell_type": "markdown",
   "metadata": {},
   "source": [
    "# Series de Tiempo \n",
    "## Laboratorio Nacional de Internet del Futuro (LaNIF)\n",
    "## Dr. Hugo Estrada\n"
   ]
  },
  {
   "cell_type": "code",
   "execution_count": null,
   "metadata": {},
   "outputs": [],
   "source": [
    "import json\n",
    "with open('aire/indice_2017.JSON') as fpt:\n",
    "    data = json.loads(fpt.read())"
   ]
  },
  {
   "cell_type": "code",
   "execution_count": null,
   "metadata": {},
   "outputs": [],
   "source": [
    "pollution = data['pollutionMeasurements']"
   ]
  },
  {
   "cell_type": "code",
   "execution_count": null,
   "metadata": {},
   "outputs": [],
   "source": [
    "data = pollution['date']\n",
    "keys = [x for x in data.keys()]\n",
    "vars = [x for x in data[keys[0]].keys()]\n",
    "vars.sort()"
   ]
  },
  {
   "cell_type": "code",
   "execution_count": null,
   "metadata": {},
   "outputs": [],
   "source": [
    "import numpy as np\n",
    "def convert(a):\n",
    "    try:\n",
    "        return float(a)\n",
    "    except ValueError:\n",
    "        return np.nan\n",
    "D = np.array([[convert(data[k][v]) for v in vars] for k in keys])\n",
    "# m = np.all(np.isfinite(D), axis=1)\n",
    "# D = D[m]"
   ]
  },
  {
   "cell_type": "markdown",
   "metadata": {},
   "source": [
    "# ¿Cómo hago una predicción?"
   ]
  },
  {
   "cell_type": "markdown",
   "metadata": {},
   "source": [
    "* $y_{t+1} = ay_t + \\sum_i b_i x^i_t$\n",
    "* $y_{t+1} = f(y_t, x^1_t, \\cdots, )$\n",
    "* $c^1_{t+1} = f(c^1_t, c^2_t, \\cdots, c^{25}_t)$\n",
    "* $c^1_{t+1} = f(c^1_t, c^2_t, \\cdots, c^{25}_t, c^1_{t-1}, c^2_{t-1}, \\cdots, c^{25}_{t-1})$"
   ]
  },
  {
   "cell_type": "code",
   "execution_count": null,
   "metadata": {},
   "outputs": [],
   "source": [
    "X = D[:-1]\n",
    "Y = D[1:]\n",
    "m = np.all(np.isfinite(X), axis=1)\n",
    "my = np.all(np.isfinite(Y), axis=1)\n",
    "_ = m & my\n",
    "X = X[_]\n",
    "Y = Y[_]"
   ]
  },
  {
   "cell_type": "code",
   "execution_count": null,
   "metadata": {},
   "outputs": [],
   "source": [
    "c = 3\n",
    "coef = np.linalg.lstsq(X, Y[:, c])[0]\n",
    "print(vars[c])\n",
    "_ = plot(Y[:, c], np.dot(X, coef), '.')"
   ]
  },
  {
   "cell_type": "code",
   "execution_count": null,
   "metadata": {},
   "outputs": [],
   "source": [
    "from EvoDAG.utils import RSE\n",
    "RSE(Y[:, c], np.dot(X, coef))"
   ]
  },
  {
   "cell_type": "code",
   "execution_count": null,
   "metadata": {},
   "outputs": [],
   "source": []
  }
 ],
 "metadata": {
  "kernelspec": {
   "display_name": "Python 3",
   "language": "python",
   "name": "python3"
  },
  "language_info": {
   "codemirror_mode": {
    "name": "ipython",
    "version": 3
   },
   "file_extension": ".py",
   "mimetype": "text/x-python",
   "name": "python",
   "nbconvert_exporter": "python",
   "pygments_lexer": "ipython3",
   "version": "3.6.4"
  }
 },
 "nbformat": 4,
 "nbformat_minor": 2
}
