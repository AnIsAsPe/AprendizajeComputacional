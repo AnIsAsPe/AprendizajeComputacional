{
 "cells": [
  {
   "cell_type": "markdown",
   "metadata": {
    "ein.tags": "worksheet-0",
    "slideshow": {
     "slide_type": "slide"
    }
   },
   "source": [
    "# Aprendizaje Computacional  \n",
    "\n",
    "## Mario Graff (mgraffg@ieee.org, mario.graff@infotec.mx)  \n",
    "## [https://github.com/ingeotec](https://github.com/ingeotec)\n",
    "## [https://github.com/mgraffg](https://github.com/mgraffg)\n",
    "## CONACYT - INFOTEC  "
   ]
  },
  {
   "cell_type": "markdown",
   "metadata": {
    "ein.tags": "worksheet-0",
    "slideshow": {
     "slide_type": "slide"
    }
   },
   "source": [
    "# Objetivo\n",
    "\n",
    "Conocer las características de problemas de aprendizaje supervisado. Conocer las fortalezas y debilidades de diferentes tipos de algoritmos de aprendizaje de tal manera de que se pueda seleccionar el algoritmo mas adecuado al problema planteado. Implementar y analizar el rendimiento de diferentes algoritmos de aprendizaje supervisado."
   ]
  },
  {
   "cell_type": "markdown",
   "metadata": {
    "ein.tags": "worksheet-0",
    "slideshow": {
     "slide_type": "subslide"
    }
   },
   "source": [
    "# Temas\n",
    "\n",
    "1. Introducción\n",
    "2. Aprendizaje supervisado\n",
    "3. Métodos paramétricos\n",
    "4. Métodos no-paramétricos\n",
    "5. Máquinas de kernel\n",
    "6. Métodos no convencionales de aprendizaje\n",
    "7. Diseño y análisis de experimentos de aprendizaje\n",
    "8. Aplicaciones"
   ]
  },
  {
   "cell_type": "markdown",
   "metadata": {
    "ein.tags": "worksheet-0",
    "slideshow": {
     "slide_type": "slide"
    }
   },
   "source": [
    "# Introducción\n",
    "\n",
    "1.1. Inteligencia Computacional - _Computational Intelligence_  \n",
    "1.2. ¿Dónde está el aprendizaje computacional en Big Data / Ciencia de Datos?  \n",
    "1.3. ¿Qué es aprendizaje computacional?  \n",
    "1.4. ¿Cuáles son los tipos de aprendizaje?  \n",
    "1.5. Herramientas"
   ]
  },
  {
   "cell_type": "markdown",
   "metadata": {
    "ein.tags": "worksheet-0",
    "slideshow": {
     "slide_type": "slide"
    }
   },
   "source": [
    "# Inteligencia Computacional\n",
    "\n",
    "* A.C. se encuentra en el área de IC  \n",
    "* Estudio de sistemas inteligentes  \n",
    "* Entender como se puede generar comportamiento inteligente"
   ]
  },
  {
   "cell_type": "markdown",
   "metadata": {
    "ein.tags": "worksheet-0",
    "slideshow": {
     "slide_type": "slide"
    }
   },
   "source": [
    "# Big Data\n",
    "* [Journal of Big Data](http://journalofbigdata.springeropen.com)\n",
    "  * Captura de datos y almacenamiento  \n",
    "  * Visualización  \n",
    "  * Algoritmos de aprendizaje para Big Data  \n",
    "  * Herramientas para data mining  \n",
    "* [Big Data Research](http://www.journals.elsevier.com/big-data-research)  \n",
    "  * Todos los aspectos fundamentales a Big Data  \n",
    "  * Artículos en plataformas específicas para tratar Big Data  \n",
    "  * Promover ciencia de datos (Data Science) y colaboración interdisciplinaria  \n",
    "  * Uso de big data en dominios específicos  \n",
    "* [IEEE Transactions on Big Data](http://ieeexplore.ieee.org/xpl/RecentIssue.jsp?punumber=6687317)\n",
    "  * Investigación interdisciplinaria  \n",
    "  * Manejo de datos  \n",
    "  * Visualización  \n",
    "  * Infraestructura, rendimiento"
   ]
  },
  {
   "cell_type": "markdown",
   "metadata": {
    "ein.tags": "worksheet-0",
    "slideshow": {
     "slide_type": "subslide"
    }
   },
   "source": [
    "# Data mining\n",
    "* [Data Mining and Knowledge Discovery](http://link.springer.com/journal/10618)\n",
    "  * Editorial - What to do with all this data?\n",
    "  * Extraer información de bases de datos\n",
    "  * Métodos de data mining\n",
    "  * Algoritmos para data mining\n",
    "  * Aplicaciones\n",
    "* Obtener conocimiento de los datos\n",
    "* Técnicas para procesar datos\n",
    "* Técnicas de aprendizaje"
   ]
  },
  {
   "cell_type": "markdown",
   "metadata": {
    "ein.tags": "worksheet-0",
    "slideshow": {
     "slide_type": "fragment"
    }
   },
   "source": [
    "* La aplicación de algoritmos de aprendizaje a grandes colecciones"
   ]
  },
  {
   "cell_type": "markdown",
   "metadata": {
    "ein.tags": "worksheet-0",
    "slideshow": {
     "slide_type": "subslide"
    }
   },
   "source": [
    "# Data Science\n",
    "* [International Journal of Data Science and Analytics](http://link.springer.com/journal/41060)\n",
    "  * Investigación guiada por los datos  \n",
    "  * Trabajo interdisciplinario\n",
    "  * Metodología, teorías, tecnologías y aplicaciones para los datos\n",
    "* Experto en el dominio  \n",
    "* Experto en la técnica  \n",
    "* Capacidad para manejo de información"
   ]
  },
  {
   "cell_type": "markdown",
   "metadata": {
    "ein.tags": "worksheet-0",
    "slideshow": {
     "slide_type": "slide"
    }
   },
   "source": [
    "# ¿Qué es aprendizaje computacional?\n",
    "\n",
    "* Algoritmo - ordenar una conjunto de números\n",
    "* Encontrar el camino mas corto entre dos vértices\n"
   ]
  },
  {
   "cell_type": "markdown",
   "metadata": {
    "ein.tags": "worksheet-0",
    "slideshow": {
     "slide_type": "fragment"
    }
   },
   "source": [
    "* Generar una composición de $\\{+, -, \\cdot, /, ...\\}$ para seguir una serie de puntos\n",
    "* Decidir si una noticia es de la sección de deportes"
   ]
  },
  {
   "cell_type": "markdown",
   "metadata": {
    "ein.tags": "worksheet-0",
    "slideshow": {
     "slide_type": "slide"
    }
   },
   "source": [
    "# ¿Cuáles son los tipos de aprendizaje?\n",
    "\n",
    "* Reglas de asociación\n",
    "* Aprendizaje Supervisado\n",
    "* Aprendizaje no supervisado\n",
    "* Aprendizaje por refuerzo"
   ]
  },
  {
   "cell_type": "markdown",
   "metadata": {
    "ein.tags": "worksheet-0",
    "slideshow": {
     "slide_type": "subslide"
    }
   },
   "source": [
    "# Reglas de asociación\n",
    "* $P(Y | X)$\n",
    "* ej. $X =$ cerveza y $Y =$ botana\n",
    "* ej. $Y =$ pañales"
   ]
  },
  {
   "cell_type": "markdown",
   "metadata": {
    "ein.tags": "worksheet-0",
    "slideshow": {
     "slide_type": "fragment"
    }
   },
   "source": [
    "* $P(Y | X, D)$\n",
    "* $D$ - Atributos de un cliente"
   ]
  },
  {
   "cell_type": "markdown",
   "metadata": {
    "ein.tags": "worksheet-0",
    "slideshow": {
     "slide_type": "subslide"
    }
   },
   "source": [
    "# Aprendizaje Supervisado  \n",
    "* Se tiene un _supervisor_\n",
    "* Clasificación\n",
    "  * Se tiene un conjunto de clases  \n",
    "  * ej. Recocimiento de caracteres  \n",
    "  * Análisis médico - tiene un padecimiento  \n",
    "  * Función _discriminante_  \n",
    "  * Generado un modelo se _predice_ la clases\n",
    "  * Probabilidad de pertenecer a una clase - $P(Y | X)$"
   ]
  },
  {
   "cell_type": "markdown",
   "metadata": {
    "ein.tags": "worksheet-0",
    "slideshow": {
     "slide_type": "fragment"
    }
   },
   "source": [
    "* Regresión\n",
    "  * Se predice una variable continua\n",
    "  * ej. Valor de una acción\n",
    "  * La temperatura\n",
    "  * Los costos de bienes inmuebles "
   ]
  },
  {
   "cell_type": "markdown",
   "metadata": {
    "ein.tags": "worksheet-0",
    "slideshow": {
     "slide_type": "subslide"
    }
   },
   "source": [
    "# Aprendizaje por refuerzo\n",
    "\n",
    "* _policy_ conjunto de acciones para llegar al objetivo\n",
    "* Juegos\n",
    "* Robots\n",
    "* Control"
   ]
  },
  {
   "cell_type": "markdown",
   "metadata": {
    "ein.tags": "worksheet-0",
    "slideshow": {
     "slide_type": "subslide"
    }
   },
   "source": [
    "# Aprendizaje no Supervisado\n",
    "\n",
    "* No se cuenta con un _supervisor_\n",
    "* Agrupamiento - Clustering\n",
    "* ej. Segmentación de clientes\n",
    "* Agrupación de documentos"
   ]
  },
  {
   "cell_type": "markdown",
   "metadata": {
    "ein.tags": "worksheet-0",
    "slideshow": {
     "slide_type": "slide"
    }
   },
   "source": [
    "# Herramientas\n",
    "\n",
    "* Python\n",
    "* numpy\n",
    "* scipy\n",
    "* scikit-learn - sklearn\n",
    "* jupyter notebook\n",
    "* matplotlib\n",
    "* pandas"
   ]
  },
  {
   "cell_type": "markdown",
   "metadata": {
    "ein.tags": "worksheet-0",
    "slideshow": {
     "slide_type": "subslide"
    }
   },
   "source": [
    "# Python\n",
    "\n",
    "* [Distribución de Anaconda](https://www.anaconda.com/distribution)\n",
    "* miniconda\n",
    "```bash\n",
    "cd $HOME\n",
    "wget http://repo.continuum.io/miniconda/Miniconda3-latest-Linux-x86_64.sh -O miniconda.sh\n",
    "chmod 755 miniconda.sh\n",
    "./miniconda.sh -b\n",
    "export PATH=$HOME/miniconda3/bin:$PATH\n",
    "conda update --yes conda\n",
    "conda install --yes pip\n",
    "```"
   ]
  },
  {
   "cell_type": "markdown",
   "metadata": {
    "ein.tags": "worksheet-0",
    "slideshow": {
     "slide_type": "subslide"
    }
   },
   "source": [
    "# Librerias - Uso - Graficar\n",
    "\n",
    "* Instalar librerías\n",
    "\n",
    "```bash\n",
    "conda install scikit-learn ipython matplotlib jupyter\n",
    "```\n",
    "\n",
    "* Graficar la siguiente función  \n",
    "    $f(x) = 12.4 x^2 - 3.4 x + 43$\n",
    "\n",
    "* En Python seria:\n",
    "\n",
    "```python  \n",
    "import numpy as np  \n",
    "\n",
    "x = np.linspace(-10, 10, 100)  \n",
    "y = 12.4 * x**2 - 3.4 * x + 43  \n",
    "plot(x, y)  \n",
    "```"
   ]
  },
  {
   "cell_type": "code",
   "execution_count": null,
   "metadata": {
    "autoscroll": false,
    "ein.tags": "worksheet-0",
    "slideshow": {
     "slide_type": "subslide"
    }
   },
   "outputs": [],
   "source": [
    "%pylab inline\n",
    "import numpy as np\n",
    "\n",
    "x = np.linspace(-10, 10, 100)\n",
    "y = 12.4 * x**2 - 3.4 * x + 43\n",
    "plot(x, y)"
   ]
  },
  {
   "cell_type": "markdown",
   "metadata": {
    "ein.tags": "worksheet-0",
    "slideshow": {
     "slide_type": "slide"
    }
   },
   "source": [
    "# Actividades\n",
    "\n",
    "1. Leer la descripción de las siguientes revistas:\n",
    "  * [Journal of Big Data](http://journalofbigdata.springeropen.com)\n",
    "  * [Big Data Research](http://www.journals.elsevier.com/big-data-research)\n",
    "  * [IEEE Transactions on Big Data](http://ieeexplore.ieee.org/xpl/RecentIssue.jsp?punumber=6687317)\n",
    "  * [Data Mining and Knowledge Discovery](http://link.springer.com/journal/10618)\n",
    "  * [International Journal of Data Science and Analytics](http://link.springer.com/journal/41060)\n",
    "2. Revisar las siguientes páginas\n",
    "  * [Kaggle](http://www.kaggle.com)\n",
    "  * [Codalab](http://codalab.org)\n",
    "  * [ingeotec](http://ingeotec.mx)\n",
    "3. Leer\n",
    "  * [Introduction to Machine Learning, Second Edition](https://mitpress.mit.edu/books/introduction-machine-learning)\n",
    "    * Capítulo 1\n",
    "  * [Understanding Machine Learning: From Theory to Algorithms](http://www.cs.huji.ac.il/~shais/UnderstandingMachineLearning)  \n",
    "    * Capítulo 1  \n",
    "  * [Computational Intelligence and Knowledge](https://www.cs.ubc.ca/~poole/ci/ch1.pdf)  \n",
    "    * Sección 1.1  \n",
    "\n",
    "4. Enviar 5 preguntas de las cuales no conozca su respuesta"
   ]
  }
 ],
 "metadata": {
  "anaconda-cloud": {},
  "celltoolbar": "Slideshow",
  "kernelspec": {
   "display_name": "Python 3",
   "language": "python",
   "name": "python3"
  },
  "language_info": {
   "codemirror_mode": {
    "name": "ipython",
    "version": 3
   },
   "file_extension": ".py",
   "mimetype": "text/x-python",
   "name": "python",
   "nbconvert_exporter": "python",
   "pygments_lexer": "ipython3",
   "version": "3.6.4"
  },
  "name": "1-Introduccion.ipynb"
 },
 "nbformat": 4,
 "nbformat_minor": 2
}
