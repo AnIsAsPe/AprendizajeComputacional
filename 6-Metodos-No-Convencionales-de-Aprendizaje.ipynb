{
 "cells": [
  {
   "cell_type": "markdown",
   "metadata": {
    "ein.tags": "worksheet-0",
    "slideshow": {
     "slide_type": "slide"
    }
   },
   "source": [
    "# Aprendizaje Computacional  \n",
    "\n",
    "## Mario Graff (mgraffg@ieee.org, mario.graff@infotec.mx)  \n",
    "## [https://github.com/ingeotec](https://github.com/ingeotec)\n",
    "## [https://github.com/mgraffg](https://github.com/mgraffg)\n",
    "## CONACYT - INFOTEC  "
   ]
  },
  {
   "cell_type": "markdown",
   "metadata": {
    "ein.tags": "worksheet-0",
    "slideshow": {
     "slide_type": "slide"
    }
   },
   "source": [
    "# Temas\n",
    "\n",
    "1. Introducción\n",
    "2. Aprendizaje supervisado\n",
    "3. Métodos paramétricos\n",
    "4. Métodos no-paramétricos\n",
    "5. Máquinas de kernel\n",
    "6. Métodos no convencionales de aprendizaje\n",
    "7. Diseño y análisis de experimentos de aprendizaje\n",
    "8. Aplicaciones"
   ]
  },
  {
   "cell_type": "markdown",
   "metadata": {
    "slideshow": {
     "slide_type": "slide"
    }
   },
   "source": [
    "# Programación Genética\n",
    "\n",
    "* Algoritmo evolutivo\n",
    "* Principios de la selección natural\n",
    "* Supervivencia del mas apto\n",
    "* Algoritmo poblacional"
   ]
  },
  {
   "cell_type": "markdown",
   "metadata": {
    "slideshow": {
     "slide_type": "subslide"
    }
   },
   "source": [
    "# Pseudocódigo - Evolución estado estable"
   ]
  },
  {
   "cell_type": "markdown",
   "metadata": {},
   "source": [
    "```python    \n",
    "P = create_initial_population()\n",
    "while not stopping_criteria(P):\n",
    "    father1 = tournament_selection(P)\n",
    "    if p_mutation < random():\n",
    "        son = mutation(father1)\n",
    "    else:\n",
    "        father2 = tournament_selection(P)\n",
    "        son = crossover(father1, father2)\n",
    "    kill = negative_tournament_selection(P)\n",
    "    P[kill] = son\n",
    "```"
   ]
  },
  {
   "cell_type": "markdown",
   "metadata": {
    "slideshow": {
     "slide_type": "subslide"
    }
   },
   "source": [
    "# Busca en un espacio de programas"
   ]
  },
  {
   "cell_type": "markdown",
   "metadata": {
    "slideshow": {
     "slide_type": "-"
    }
   },
   "source": [
    "* Espacio de funciones $\\Omega$ \n",
    "* $\\Omega$ creado recursivamente por:\n",
    "* Conjunto de funciones $\\mathcal F$\n",
    "* Conjunto de terminales $\\mathcal L$"
   ]
  },
  {
   "cell_type": "markdown",
   "metadata": {
    "slideshow": {
     "slide_type": "fragment"
    }
   },
   "source": [
    "* $\\mathcal F$ compuesto por suma, multiplicación, división, entre otras\n",
    "* $\\mathcal L$ variables independientes, entradas. "
   ]
  },
  {
   "cell_type": "markdown",
   "metadata": {
    "slideshow": {
     "slide_type": "fragment"
    }
   },
   "source": [
    "* Cada función en $\\mathcal F$ está asociada con un conjunto de parámetros\n",
    "* $f \\in \\mathcal F$ tiene cardinalidad $1$ entonces $f(x \\mid \\theta) \\in \\Omega$ "
   ]
  },
  {
   "cell_type": "markdown",
   "metadata": {
    "slideshow": {
     "slide_type": "fragment"
    }
   },
   "source": [
    "* $\\theta$ se identifica utilizando $\\mathcal X$ mediante mínimos cuadrados"
   ]
  },
  {
   "cell_type": "markdown",
   "metadata": {
    "slideshow": {
     "slide_type": "subslide"
    }
   },
   "source": [
    "# Espacio de Búsqueda\n",
    "\n",
    "* $\\mathcal F_c \\subseteq \\mathcal F$\n",
    "* $\\Omega^i$ elementos creados en la iteración $i$, empezando por $i=0$\n",
    "* $\\Omega^0 = \\{ \\theta x_i \\mid x_i \\in \\mathcal L \\} \\cup \\bigcup_c \\{ f(x_1, \\cdots, x_c \\mid \\theta) \\mid x_i \\in \\mathcal{L}, f \\in \\mathcal{F}_c \\}$\n",
    "* $\\Omega^i = \\bigcup_c \\{ f(x_1, \\cdots, x_c \\mid \\theta) \\mid x_i \\in \\Omega^{i-1}, f \\in \\mathcal{F}_c \\}$"
   ]
  },
  {
   "cell_type": "markdown",
   "metadata": {
    "slideshow": {
     "slide_type": "fragment"
    }
   },
   "source": [
    "* $\\Omega = \\bigcup_i \\Omega^i$"
   ]
  },
  {
   "cell_type": "markdown",
   "metadata": {
    "slideshow": {
     "slide_type": "fragment"
    }
   },
   "source": [
    "* Funciones conmutativas\n",
    "* $f(a, b, b, d) = \\theta f(a, b, d)$"
   ]
  },
  {
   "cell_type": "markdown",
   "metadata": {
    "slideshow": {
     "slide_type": "slide"
    }
   },
   "source": [
    "# EvoDAG\n",
    "\n",
    "* Muestrea $\\Omega^i$ mediante una población $\\mathcal P$\n",
    "* $P^0$ contiene $\\{\\theta x \\mid x \\in \\mathcal L\\}$\n",
    "* $P^0$ además contiene funciones especiales como:   \n",
    "   Nearest Centroid Classifier, Bayes Ingenuo, entre otras\n",
    "* $P^0$ se completa seleccionado $f \\in \\mathcal F$ y sus argumentos de $\\mathcal L$ sin reemplazo\n",
    "* Si $\\mathcal L$ está vacío y $P^0$ no tiene el número de elementos deseados\n",
    "* Se selecciona $f \\in \\mathcal F$ y sus argumentos de $P^0$"
   ]
  },
  {
   "cell_type": "markdown",
   "metadata": {
    "slideshow": {
     "slide_type": "subslide"
    }
   },
   "source": [
    "# Ejemplo\n",
    "\n",
    "* $\\mathcal F = \\{+, \\sin \\}$\n",
    "* $\\mathcal L =\\{x_1, x_2, x_3\\}$\n",
    "* $\\mathcal P^0$ empieza con $\\{\\theta_1 x_1, \\theta_2 x_3, \\theta_3 x_2\\}$\n",
    "* $+$ $\\rightarrow$ $P^0 = \\{\\theta_1 x_1, \\theta_2 x_3, \\theta_3 x_2, \\theta_4 x_1 + \\theta_5 x_2\\}$\n",
    "* $\\sin$ $\\rightarrow$ $P^0=\\{\\theta_1 x_1, \\theta_2 x_3, \\theta_3 x_2, \\theta_4 x_1 + \\theta_5 x_3, \\theta_6 \\sin{(x_2)}\\}$"
   ]
  },
  {
   "cell_type": "markdown",
   "metadata": {
    "slideshow": {
     "slide_type": "fragment"
    }
   },
   "source": [
    "* $\\sin$ argumento $\\theta_4 x_1 + \\theta_5 x_3$ $\\rightarrow$ $P^0=\\{\\theta_1 x_1, \\theta_2 x_3, \\theta_3 x_2, \\theta_4 x_1 + \\theta_5 x_3, \\theta_6 \\sin{(x_2)}, \\theta_7 \\sin{(\\theta_4 x_1 + \\theta_5 x_3)}\\}$"
   ]
  },
  {
   "cell_type": "markdown",
   "metadata": {
    "slideshow": {
     "slide_type": "subslide"
    }
   },
   "source": [
    "# EvoDAG - Evolución\n",
    "\n",
    "* Una vez creado $P^0$ \n",
    "* $P = P^0$\n",
    "* Se genera un hijo $s$ seleccionando $f \\in \\mathcal F$ y sus argumentos se toman de $P$\n",
    "* Se selecciona $j \\in P$ utilizando un torneo negativo\n",
    "* $j$ es reemplazado por $s$"
   ]
  },
  {
   "cell_type": "markdown",
   "metadata": {
    "slideshow": {
     "slide_type": "fragment"
    }
   },
   "source": [
    "* $P=\\{\\theta_1 x_1, \\theta_2 x_3, \\theta_3 x_2, \\theta_4 x_1 + \\theta_5 x_3, \\theta_6 \\sin{(x_2)}, \\theta_7 \\sin{(\\theta_4 x_1 + \\theta_5 x_3)}\\}$\n",
    "* $+$\n",
    "* $\\theta_3 x_2 + \\theta_6 \\sin{(x_2)}$\n",
    "* $P=\\{\\theta_3 x_2 + \\theta_6 \\sin{(x_2)}, \\theta_2 x_3, \\theta_3 x_2, \\theta_4 x_1 + \\theta_5 x_3, \\theta_6 \\sin{(x_2)}, \\theta_7 \\sin{(\\theta_4 x_1 + \\theta_5 x_3)}\\}$"
   ]
  },
  {
   "cell_type": "markdown",
   "metadata": {
    "slideshow": {
     "slide_type": "subslide"
    }
   },
   "source": [
    "# Criterio de Paro\n",
    "\n",
    "* Se usa la técnica de _early stopping_\n",
    "* $\\mathcal X$ se divide en $\\mathcal X$ y $\\mathcal V$\n",
    "* $\\mathcal X$ se usa para guiar la búsqueda\n",
    "* $\\mathcal V$ mide la generalización del modelo\n",
    "* El modelo final es el que mejor rendimiento tiene en $\\mathcal V$\n",
    "* Detienen cuando en $k$ evaluaciones no se obtiene un mejor rendimiento en $\\mathcal V$"
   ]
  },
  {
   "cell_type": "markdown",
   "metadata": {
    "slideshow": {
     "slide_type": "subslide"
    }
   },
   "source": [
    "# Selección por torneo\n",
    "\n",
    "* Seleccionan $k$ individuos\n",
    "* Se escoge al que mejor rendimiento tenga"
   ]
  },
  {
   "cell_type": "markdown",
   "metadata": {
    "slideshow": {
     "slide_type": "fragment"
    }
   },
   "source": [
    "```python  \n",
    "shuffle(P)\n",
    "p = P[:k]\n",
    "fit = [(x, fitness(x)) for x in p]\n",
    "fit.sort(key=lambda x: x[0])\n",
    "winner = fit[-1]```"
   ]
  },
  {
   "cell_type": "markdown",
   "metadata": {
    "slideshow": {
     "slide_type": "fragment"
    }
   },
   "source": [
    "* Torneo negativo\n"
   ]
  },
  {
   "cell_type": "markdown",
   "metadata": {
    "slideshow": {
     "slide_type": "fragment"
    }
   },
   "source": [
    "```python  \n",
    "loser = fit[0]```"
   ]
  },
  {
   "cell_type": "markdown",
   "metadata": {
    "slideshow": {
     "slide_type": "subslide"
    }
   },
   "source": [
    "# EvoDAG - pseudocódigo\n",
    "\n",
    "```python    \n",
    "P = create_initial_population()\n",
    "while not stopping_criteria(P):\n",
    "    func = select_function()\n",
    "    args = [tournament_selection(P) for _ in nargs(func)]\n",
    "    son = func(*args)\n",
    "    kill = negative_tournament_selection(P)\n",
    "    P[kill] = son\n",
    "```"
   ]
  },
  {
   "cell_type": "markdown",
   "metadata": {
    "slideshow": {
     "slide_type": "slide"
    }
   },
   "source": [
    "# EvoDAG Model\n",
    "![EvoDAG.png](EvoDAG.png)"
   ]
  },
  {
   "cell_type": "code",
   "execution_count": null,
   "metadata": {
    "collapsed": false,
    "slideshow": {
     "slide_type": "skip"
    }
   },
   "outputs": [],
   "source": [
    "%pylab inline\n",
    "from sklearn.datasets import make_blobs\n",
    "import numpy as np\n",
    "def boundary(x, y, m):\n",
    "    px = []\n",
    "    py = []\n",
    "    for y0 in y:\n",
    "        pr = m.predict(np.vstack((x, [y0] * x.shape[0])).T)\n",
    "        df = np.fabs(pr[1:] - pr[:-1])\n",
    "        step = np.where(df > 0)[0]\n",
    "        if len(step):\n",
    "            for x0 in step:\n",
    "                py.append(y0)\n",
    "                px.append(x[x0])\n",
    "    return px, py"
   ]
  },
  {
   "cell_type": "markdown",
   "metadata": {
    "slideshow": {
     "slide_type": "subslide"
    }
   },
   "source": [
    "# Problema binario"
   ]
  },
  {
   "cell_type": "code",
   "execution_count": null,
   "metadata": {
    "collapsed": false
   },
   "outputs": [],
   "source": [
    "centers = [(-5, -5), (0, 0)]\n",
    "X, y = make_blobs(n_samples=200, n_features=2, cluster_std=1.0,\n",
    "                  centers=centers, shuffle=False, random_state=42)\n",
    "for k in np.unique(y):\n",
    "    pylab.plot(X[y == k, 0], X[y == k, 1], '.')"
   ]
  },
  {
   "cell_type": "markdown",
   "metadata": {
    "slideshow": {
     "slide_type": "subslide"
    }
   },
   "source": [
    "# EvoDAG - Función de Decisión"
   ]
  },
  {
   "cell_type": "code",
   "execution_count": null,
   "metadata": {},
   "outputs": [],
   "source": [
    "from sklearn.svm import LinearSVC\n",
    "from EvoDAG.model import EvoDAGE\n",
    "import numpy as np\n",
    "for k in np.unique(y):\n",
    "    pylab.plot(X[y == k, 0], X[y == k, 1], '.')\n",
    "m = EvoDAGE().fit(X, y)\n",
    "px, py = boundary(np.linspace(-8, 4, 100), np.linspace(-8, 4, 100), m)\n",
    "_ = pylab.plot(px, py, '.')"
   ]
  },
  {
   "cell_type": "markdown",
   "metadata": {
    "slideshow": {
     "slide_type": "subslide"
    }
   },
   "source": [
    "# Problema"
   ]
  },
  {
   "cell_type": "code",
   "execution_count": null,
   "metadata": {
    "collapsed": false,
    "slideshow": {
     "slide_type": "-"
    }
   },
   "outputs": [],
   "source": [
    "centers = [(-5, -3), (0, 0), (5, 5), (10, 3)]\n",
    "X, y = make_blobs(n_samples=400, n_features=2, cluster_std=1.0,\n",
    "                  centers=centers, shuffle=False, random_state=42)\n",
    "y[100:200] = 3\n",
    "for k in np.unique(y):\n",
    "    pylab.plot(X[y == k, 0], X[y == k, 1], '.')"
   ]
  },
  {
   "cell_type": "markdown",
   "metadata": {
    "slideshow": {
     "slide_type": "subslide"
    }
   },
   "source": [
    "# EvoDAG - Función de Decisión"
   ]
  },
  {
   "cell_type": "code",
   "execution_count": null,
   "metadata": {},
   "outputs": [],
   "source": [
    "from sklearn.svm import LinearSVC\n",
    "from EvoDAG.model import EvoDAGE\n",
    "import numpy as np\n",
    "for k in np.unique(y):\n",
    "    pylab.plot(X[y == k, 0], X[y == k, 1], '.')\n",
    "m = EvoDAGE().fit(X, y)\n",
    "px, py = boundary(np.linspace(-10, 15, 100), np.linspace(-10, 15, 100), m)\n",
    "_ = pylab.plot(px, py, '.')"
   ]
  },
  {
   "cell_type": "markdown",
   "metadata": {
    "slideshow": {
     "slide_type": "subslide"
    }
   },
   "source": [
    "# EvoDAG - Model"
   ]
  },
  {
   "cell_type": "code",
   "execution_count": null,
   "metadata": {
    "slideshow": {
     "slide_type": "skip"
    }
   },
   "outputs": [],
   "source": [
    "import graphviz\n",
    "model = m.models[2]\n",
    "model.graphviz('model0.gv')"
   ]
  },
  {
   "cell_type": "code",
   "execution_count": null,
   "metadata": {},
   "outputs": [],
   "source": [
    "data = open('model0.gv').read()\n",
    "graph = graphviz.Source(data)\n",
    "graph"
   ]
  },
  {
   "cell_type": "markdown",
   "metadata": {
    "slideshow": {
     "slide_type": "subslide"
    }
   },
   "source": [
    "# Model - Función de Decisión"
   ]
  },
  {
   "cell_type": "code",
   "execution_count": null,
   "metadata": {},
   "outputs": [],
   "source": [
    "for k in np.unique(y):\n",
    "    pylab.plot(X[y == k, 0], X[y == k, 1], '.')\n",
    "px, py = boundary(np.linspace(-10, 15, 100), np.linspace(-10, 15, 100), model)\n",
    "_ = pylab.plot(px, py, '.')"
   ]
  },
  {
   "cell_type": "code",
   "execution_count": null,
   "metadata": {
    "slideshow": {
     "slide_type": "subslide"
    }
   },
   "outputs": [],
   "source": [
    "for k in np.unique(y):\n",
    "    pylab.plot(X[y == k, 0], X[y == k, 1], '.')\n",
    "px, py = boundary(np.linspace(-10, 15, 100), np.linspace(-10, 15, 100), model)\n",
    "_ = pylab.plot(px, py, '.')\n",
    "px, py = boundary(np.linspace(-10, 15, 100), np.linspace(-10, 15, 100), m.models[0])\n",
    "_ = pylab.plot(px, py, '.')"
   ]
  },
  {
   "cell_type": "code",
   "execution_count": null,
   "metadata": {},
   "outputs": [],
   "source": []
  }
 ],
 "metadata": {
  "kernelspec": {
   "display_name": "Python 3",
   "language": "python",
   "name": "python3"
  },
  "language_info": {
   "codemirror_mode": {
    "name": "ipython",
    "version": 3
   },
   "file_extension": ".py",
   "mimetype": "text/x-python",
   "name": "python",
   "nbconvert_exporter": "python",
   "pygments_lexer": "ipython3",
   "version": "3.6.4"
  }
 },
 "nbformat": 4,
 "nbformat_minor": 2
}
