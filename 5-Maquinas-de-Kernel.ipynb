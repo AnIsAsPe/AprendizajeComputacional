{
 "cells": [
  {
   "cell_type": "markdown",
   "metadata": {
    "slideshow": {
     "slide_type": "slide"
    }
   },
   "source": [
    "# Aprendizaje Computacional  \n",
    "\n",
    "## Mario Graff (mgraffg@ieee.org, mario.graff@infotec.mx)  \n",
    "## [https://github.com/ingeotec](https://github.com/ingeotec)\n",
    "## [https://github.com/mgraffg](https://github.com/mgraffg)\n",
    "## CONACYT - INFOTEC"
   ]
  },
  {
   "cell_type": "markdown",
   "metadata": {
    "slideshow": {
     "slide_type": "slide"
    }
   },
   "source": [
    "# Temas  \n",
    "\n",
    "1. Introducción  \n",
    "2. Aprendizaje supervisado  \n",
    "3. Métodos paramétricos  \n",
    "4. Métodos no-paramétricos  \n",
    "5. Máquinas de kernel  \n",
    "6. Métodos no convencionales de aprendizaje  \n",
    "7. Diseño y análisis de experimentos de aprendizaje  \n",
    "8. Aplicaciones"
   ]
  },
  {
   "cell_type": "code",
   "execution_count": null,
   "metadata": {
    "collapsed": false,
    "slideshow": {
     "slide_type": "skip"
    }
   },
   "outputs": [],
   "source": [
    "%pylab inline\n",
    "from sklearn.datasets import make_blobs\n",
    "import numpy as np\n",
    "def boundary(x, y, m):\n",
    "    px = []\n",
    "    py = []\n",
    "    for y0 in y:\n",
    "        pr = m.predict(np.vstack((x, [y0] * x.shape[0])).T)\n",
    "        df = np.fabs(pr[1:] - pr[:-1])\n",
    "        step = np.where(df > 0)[0]\n",
    "        if len(step):\n",
    "            for x0 in step:\n",
    "                py.append(y0)\n",
    "                px.append(x[x0])\n",
    "    return px, py"
   ]
  },
  {
   "cell_type": "markdown",
   "metadata": {
    "slideshow": {
     "slide_type": "slide"
    }
   },
   "source": [
    "# Máquinas de soporte"
   ]
  },
  {
   "cell_type": "markdown",
   "metadata": {
    "slideshow": {
     "slide_type": "fragment"
    }
   },
   "source": [
    "* $\\mathbf w' \\cdot \\mathbf x_t  + w_0\\geq 1$ para todo $r_t = 1$\n",
    "* $\\mathbf w' \\cdot \\mathbf x_t  + w_0 \\leq -1$ para todo $r_t = -1$"
   ]
  },
  {
   "cell_type": "markdown",
   "metadata": {
    "slideshow": {
     "slide_type": "fragment"
    }
   },
   "source": [
    "* $r_t (\\mathbf w' \\mathbf x_t + w_0) \\geq 1 $"
   ]
  },
  {
   "cell_type": "markdown",
   "metadata": {
    "slideshow": {
     "slide_type": "fragment"
    }
   },
   "source": [
    "* Distancia al plano es:  \n",
    "$\\frac{\\mid \\mathbf w' \\cdot \\mathbf x_t + w_0 \\mid}{\\mid \\mid \\mathbf w \\mid \\mid}$"
   ]
  },
  {
   "cell_type": "markdown",
   "metadata": {
    "slideshow": {
     "slide_type": "fragment"
    }
   },
   "source": [
    "* $r_t \\frac{\\mid \\mathbf w' \\cdot \\mathbf x_t + w_0 \\mid}{\\mid \\mid \\mathbf w \\mid \\mid} \\geq \\rho$"
   ]
  },
  {
   "cell_type": "markdown",
   "metadata": {
    "slideshow": {
     "slide_type": "fragment"
    }
   },
   "source": [
    "* $\\min \\frac{1}{2} \\mid \\mid \\mathbf w \\mid \\mid ^2$   \n",
    "   sujeto a $r_t (\\mathbf w' \\mathbf x_t + w_0) \\geq 1, \\forall t$ "
   ]
  },
  {
   "cell_type": "markdown",
   "metadata": {
    "slideshow": {
     "slide_type": "subslide"
    }
   },
   "source": [
    "# Problema binario"
   ]
  },
  {
   "cell_type": "code",
   "execution_count": null,
   "metadata": {
    "collapsed": false
   },
   "outputs": [],
   "source": [
    "centers = [(-5, -5), (0, 0)]\n",
    "X, y = make_blobs(n_samples=200, n_features=2, cluster_std=1.0,\n",
    "                  centers=centers, shuffle=False, random_state=42)\n",
    "for k in np.unique(y):\n",
    "    pylab.plot(X[y == k, 0], X[y == k, 1], '.')"
   ]
  },
  {
   "cell_type": "markdown",
   "metadata": {
    "slideshow": {
     "slide_type": "subslide"
    }
   },
   "source": [
    "# Función de Decisión"
   ]
  },
  {
   "cell_type": "code",
   "execution_count": null,
   "metadata": {
    "slideshow": {
     "slide_type": "-"
    }
   },
   "outputs": [],
   "source": [
    "from sklearn.svm import LinearSVC\n",
    "for k in np.unique(y):\n",
    "    pylab.plot(X[y == k, 0], X[y == k, 1], '.')\n",
    "m = LinearSVC(dual=False).fit(X, y)\n",
    "px, py = boundary(np.linspace(-8, 4, 1000), np.linspace(-8, 4, 1000), m)\n",
    "_ = pylab.plot(px, py, '.')"
   ]
  },
  {
   "cell_type": "markdown",
   "metadata": {
    "slideshow": {
     "slide_type": "subslide"
    }
   },
   "source": [
    "# Distancia a Hiperplano"
   ]
  },
  {
   "cell_type": "code",
   "execution_count": null,
   "metadata": {
    "slideshow": {
     "slide_type": "-"
    }
   },
   "outputs": [],
   "source": [
    "d = np.dot(X, m.coef_[0]) + m.intercept_\n",
    "d.sort()\n",
    "pylab.subplot(1, 2, 1)\n",
    "for k in np.unique(y):\n",
    "    pylab.plot(X[y == k, 0], X[y == k, 1], '.')\n",
    "m = LinearSVC(dual=False).fit(X, y)\n",
    "px, py = boundary(np.linspace(-8, 4, 1000), np.linspace(-8, 4, 1000), m)\n",
    "_ = pylab.plot(px, py, '.')\n",
    "pylab.subplot(1, 2, 2)\n",
    "pylab.grid()\n",
    "_ = pylab.plot(d, '*')"
   ]
  },
  {
   "cell_type": "markdown",
   "metadata": {
    "slideshow": {
     "slide_type": "subslide"
    }
   },
   "source": [
    "* Problema de optimización cuadrático\n",
    "* Complejidad depende de $d$"
   ]
  },
  {
   "cell_type": "markdown",
   "metadata": {
    "slideshow": {
     "slide_type": "slide"
    }
   },
   "source": [
    "# Nueva Formulación\n",
    "\n",
    "* Transformar el problema a un problema sin restricciones   \n",
    "$L_p = \\frac{1}{2} \\mid \\mid \\mathbf w \\mid \\mid^2 - \\sum_t \\alpha_t r_t (\\mathbf w' \\cdot \\mathbf x_t + w_0) + \\sum_t \\alpha_t$\n",
    "* El dual es maximizar $L_p$ con respecto a $\\alpha_t$\n",
    "* Sujeto a que el gradiente de $L_p$ con respecto a $\\mathbf w$ y $w_0$ sea $0$"
   ]
  },
  {
   "cell_type": "markdown",
   "metadata": {
    "slideshow": {
     "slide_type": "fragment"
    }
   },
   "source": [
    "* $\\frac{\\partial L_p}{\\partial \\mathbf w} = 0 \\rightarrow \\mathbf w = \\sum_t \\alpha_t r_t \\mathbf x_t$"
   ]
  },
  {
   "cell_type": "markdown",
   "metadata": {
    "slideshow": {
     "slide_type": "fragment"
    }
   },
   "source": [
    "* $\\alpha_t > 0$   \n",
    "   Vectores de soporte"
   ]
  },
  {
   "cell_type": "markdown",
   "metadata": {
    "slideshow": {
     "slide_type": "fragment"
    }
   },
   "source": [
    "* $g(\\mathbf x) =  \\mathbf w' \\cdot \\mathbf x + w_0  $ \n",
    "* $g(\\mathbf x) = \\sum_t \\alpha_t r_t \\mathbf x_t \\cdot \\mathbf x + w_0$"
   ]
  },
  {
   "cell_type": "markdown",
   "metadata": {
    "slideshow": {
     "slide_type": "subslide"
    }
   },
   "source": [
    "# Función de decision"
   ]
  },
  {
   "cell_type": "code",
   "execution_count": null,
   "metadata": {
    "collapsed": false
   },
   "outputs": [],
   "source": [
    "from sklearn.svm import SVC\n",
    "for k in np.unique(y):\n",
    "    pylab.plot(X[y == k, 0], X[y == k, 1], '.')\n",
    "m = SVC(kernel='poly', degree=1).fit(X, y)\n",
    "px, py = boundary(np.linspace(-8, 4, 1000), np.linspace(-8, 4, 1000), m)\n",
    "_ = pylab.plot(px, py, '.')"
   ]
  },
  {
   "cell_type": "markdown",
   "metadata": {
    "slideshow": {
     "slide_type": "subslide"
    }
   },
   "source": [
    "# Vectores de soporte"
   ]
  },
  {
   "cell_type": "code",
   "execution_count": null,
   "metadata": {
    "slideshow": {
     "slide_type": "fragment"
    }
   },
   "outputs": [],
   "source": [
    "import numpy as np\n",
    "for k, c in zip(np.unique(y), ['b', 'g']):\n",
    "    pylab.plot(X[y == k, 0], X[y == k, 1], '%s.' % c)\n",
    "Xp = X[m.support_]\n",
    "yp = y[m.support_]\n",
    "for k, c in zip(np.unique(yp), ['b', 'g']):\n",
    "    pylab.plot(Xp[yp == k, 0], Xp[yp == k, 1], '%s*' % c)\n",
    "_ = pylab.plot(px, py, '.')"
   ]
  },
  {
   "cell_type": "markdown",
   "metadata": {
    "slideshow": {
     "slide_type": "slide"
    }
   },
   "source": [
    "# Caso no separable\n",
    "* $r_t (\\mathbf w' \\cdot \\mathbf x + w_0) \\geq 1 - \\xi_t$\n",
    "* $L_p = \\frac{1}{2} \\mid \\mid \\mathbf w \\mid \\mid^2 + C \\sum_t \\xi_t $"
   ]
  },
  {
   "cell_type": "markdown",
   "metadata": {
    "slideshow": {
     "slide_type": "fragment"
    }
   },
   "source": [
    "* $L_d = \\sum_t \\alpha_t - \\frac{1}{2} \\sum_t \\sum_s \\alpha_t \\alpha_s r_t r_s \\mathbf x_t' \\cdot \\mathbf x_s $   \n",
    "sujeto a $\\sum_t \\alpha_t r_t = 0$ y $0 \\leq \\alpha_t \\leq C, \\forall t$"
   ]
  },
  {
   "cell_type": "markdown",
   "metadata": {
    "slideshow": {
     "slide_type": "subslide"
    }
   },
   "source": [
    "# Kernel\n",
    "\n",
    "* Remplazar $\\mathbf x \\rightarrow \\mathbf \\phi(\\mathbf x)$"
   ]
  },
  {
   "cell_type": "markdown",
   "metadata": {
    "slideshow": {
     "slide_type": "fragment"
    }
   },
   "source": [
    "* $L_d = \\sum_t \\alpha_t - \\frac{1}{2} \\sum_t \\sum_s \\alpha_t \\alpha_s r_t r_s \\mathbf \\phi(\\mathbf x_t)' \\cdot \\mathbf \\phi (\\mathbf x_s) $   \n",
    "sujeto a $\\sum_t \\alpha_t r_t = 0$ y $0 \\leq \\alpha_t \\leq C, \\forall t$"
   ]
  },
  {
   "cell_type": "markdown",
   "metadata": {
    "slideshow": {
     "slide_type": "fragment"
    }
   },
   "source": [
    "* $\\mathbf \\phi(\\mathbf x_t)' \\cdot \\mathbf \\phi (\\mathbf x_s) \\rightarrow \\Re$\n",
    "* $K(\\mathbf x_t, \\mathbf x_s) \\rightarrow \\Re$"
   ]
  },
  {
   "cell_type": "markdown",
   "metadata": {
    "slideshow": {
     "slide_type": "fragment"
    }
   },
   "source": [
    "* $g(\\mathbf x) = \\sum_t \\alpha_t r_t K(\\mathbf x_t, \\mathbf x) + w_0$"
   ]
  },
  {
   "cell_type": "markdown",
   "metadata": {
    "slideshow": {
     "slide_type": "fragment"
    }
   },
   "source": [
    "* e.g. $K(\\mathbf x_t, \\mathbf x_s) = (\\mathbf x_t \\cdot \\mathbf x_s )^d$"
   ]
  },
  {
   "cell_type": "markdown",
   "metadata": {
    "slideshow": {
     "slide_type": "subslide"
    }
   },
   "source": [
    "# Problema"
   ]
  },
  {
   "cell_type": "code",
   "execution_count": null,
   "metadata": {
    "collapsed": false,
    "slideshow": {
     "slide_type": "-"
    }
   },
   "outputs": [],
   "source": [
    "centers = [(-5, -3), (0, 0), (5, 5), (10, 3)]\n",
    "X, y = make_blobs(n_samples=400, n_features=2, cluster_std=1.0,\n",
    "                  centers=centers, shuffle=False, random_state=42)\n",
    "y[100:200] = 3\n",
    "for k in np.unique(y):\n",
    "    pylab.plot(X[y == k, 0], X[y == k, 1], '.')"
   ]
  },
  {
   "cell_type": "markdown",
   "metadata": {
    "slideshow": {
     "slide_type": "subslide"
    }
   },
   "source": [
    "# Linear - SVM"
   ]
  },
  {
   "cell_type": "code",
   "execution_count": null,
   "metadata": {
    "collapsed": false,
    "slideshow": {
     "slide_type": "fragment"
    }
   },
   "outputs": [],
   "source": [
    "from sklearn.svm import LinearSVC, SVC\n",
    "for k in np.unique(y):\n",
    "    pylab.plot(X[y == k, 0], X[y == k, 1], '.')\n",
    "m = LinearSVC().fit(X, y)\n",
    "px, py = boundary(np.linspace(-10, 15, 1000), np.linspace(-10, 15, 1000), m)\n",
    "_ = pylab.plot(px, py, '.')\n"
   ]
  },
  {
   "cell_type": "markdown",
   "metadata": {
    "slideshow": {
     "slide_type": "subslide"
    }
   },
   "source": [
    "# Linear SVM y Logistic Regression"
   ]
  },
  {
   "cell_type": "code",
   "execution_count": null,
   "metadata": {
    "collapsed": false,
    "slideshow": {
     "slide_type": "fragment"
    }
   },
   "outputs": [],
   "source": [
    "from sklearn.naive_bayes import GaussianNB\n",
    "from sklearn.linear_model import LogisticRegression\n",
    "m = LinearSVC().fit(X, y)\n",
    "px, py = boundary(np.linspace(-10, 15, 1000), np.linspace(-10, 15, 1000), m)\n",
    "pylab.plot(px, py, '.')\n",
    "m = LogisticRegression().fit(X, y)\n",
    "px, py = boundary(np.linspace(-10, 15, 1000), np.linspace(-10, 15, 1000), m)\n",
    "pylab.plot(px, py, '.')\n",
    "legend(['SVM', 'LR'])\n",
    "for k in np.unique(y):\n",
    "    pylab.plot(X[y == k, 0], X[y == k, 1], '.')"
   ]
  },
  {
   "cell_type": "markdown",
   "metadata": {
    "slideshow": {
     "slide_type": "subslide"
    }
   },
   "source": [
    "# Linear SVM y Kernel polinomial primer grado"
   ]
  },
  {
   "cell_type": "code",
   "execution_count": null,
   "metadata": {
    "collapsed": false,
    "slideshow": {
     "slide_type": "fragment"
    }
   },
   "outputs": [],
   "source": [
    "m = LinearSVC().fit(X, y)\n",
    "px, py = boundary(np.linspace(-10, 15, 1000), np.linspace(-10, 15, 1000), m)\n",
    "pylab.plot(px, py, '.')\n",
    "m = SVC(kernel='poly', degree=1).fit(X, y)\n",
    "px, py = boundary(np.linspace(-10, 15, 1000), np.linspace(-10, 15, 1000), m)\n",
    "pylab.plot(px, py, '.')\n",
    "legend(['Linear', 'Poly'])\n",
    "for k in np.unique(y):\n",
    "    pylab.plot(X[y == k, 0], X[y == k, 1], '.')"
   ]
  },
  {
   "cell_type": "markdown",
   "metadata": {
    "slideshow": {
     "slide_type": "subslide"
    }
   },
   "source": [
    "# Vectores de soporte"
   ]
  },
  {
   "cell_type": "code",
   "execution_count": null,
   "metadata": {
    "collapsed": false,
    "slideshow": {
     "slide_type": "fragment"
    }
   },
   "outputs": [],
   "source": [
    "for k, c in zip(np.unique(y), ['b', 'g', 'r']):    \n",
    "    pylab.plot(X[y == k, 0], X[y == k, 1], '%s.' % c)\n",
    "Xp = X[m.support_]\n",
    "yp = y[m.support_]\n",
    "for k, c in zip(np.unique(yp), ['b', 'g', 'r']):\n",
    "    pylab.plot(Xp[yp == k, 0], Xp[yp == k, 1], '%s*' % c)\n",
    "_ = pylab.plot(px, py, '.')"
   ]
  },
  {
   "cell_type": "markdown",
   "metadata": {
    "slideshow": {
     "slide_type": "subslide"
    }
   },
   "source": [
    "# Kernel polinomial tercer grado"
   ]
  },
  {
   "cell_type": "code",
   "execution_count": null,
   "metadata": {
    "collapsed": false,
    "slideshow": {
     "slide_type": "fragment"
    }
   },
   "outputs": [],
   "source": [
    "from sklearn.svm import SVC\n",
    "for k in np.unique(y):\n",
    "    pylab.plot(X[y == k, 0], X[y == k, 1], '.')\n",
    "m = SVC(kernel='poly', degree=3).fit(X, y)\n",
    "px, py = boundary(np.linspace(-10, 15, 1000), np.linspace(-10, 15, 1000), m)\n",
    "_ = pylab.plot(px, py, '.')"
   ]
  },
  {
   "cell_type": "markdown",
   "metadata": {
    "slideshow": {
     "slide_type": "subslide"
    }
   },
   "source": [
    "# Vectores de soporte"
   ]
  },
  {
   "cell_type": "code",
   "execution_count": null,
   "metadata": {
    "collapsed": false,
    "slideshow": {
     "slide_type": "fragment"
    }
   },
   "outputs": [],
   "source": [
    "for k, c in zip(np.unique(y), ['b', 'g', 'r']):\n",
    "    pylab.plot(X[y == k, 0], X[y == k, 1], '%s.' % c)\n",
    "Xp = X[m.support_]\n",
    "yp = y[m.support_]\n",
    "for k, c in zip(np.unique(yp), ['b', 'g', 'r']):\n",
    "    pylab.plot(Xp[yp == k, 0], Xp[yp == k, 1], '%s*' % c)\n",
    "_ = pylab.plot(px, py, '.')"
   ]
  }
 ],
 "metadata": {
  "anaconda-cloud": {},
  "celltoolbar": "Slideshow",
  "kernelspec": {
   "display_name": "Python 3",
   "language": "python",
   "name": "python3"
  },
  "language_info": {
   "codemirror_mode": {
    "name": "ipython",
    "version": 3
   },
   "file_extension": ".py",
   "mimetype": "text/x-python",
   "name": "python",
   "nbconvert_exporter": "python",
   "pygments_lexer": "ipython3",
   "version": "3.6.4"
  }
 },
 "nbformat": 4,
 "nbformat_minor": 2
}
