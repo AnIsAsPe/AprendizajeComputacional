{
 "cells": [
  {
   "cell_type": "code",
   "execution_count": null,
   "metadata": {},
   "outputs": [],
   "source": [
    "from sklearn.datasets import make_blobs\n",
    "centers = [(-5, -5), (0, 0), (5, 5), (10, 10)]\n",
    "X, y = make_blobs(n_samples=400, n_features=2, cluster_std=1.0,\n",
    "                  centers=centers, shuffle=False, random_state=42)"
   ]
  },
  {
   "cell_type": "code",
   "execution_count": null,
   "metadata": {},
   "outputs": [],
   "source": [
    "%pylab inline"
   ]
  },
  {
   "cell_type": "code",
   "execution_count": null,
   "metadata": {},
   "outputs": [],
   "source": [
    "for k in np.unique(y):\n",
    "    pylab.plot(X[y == k, 0], X[y == k, 1], '.')"
   ]
  },
  {
   "cell_type": "markdown",
   "metadata": {},
   "source": []
  },
  {
   "cell_type": "markdown",
   "metadata": {},
   "source": [
    "# Naive Bayes"
   ]
  },
  {
   "cell_type": "markdown",
   "metadata": {},
   "source": [
    "$p(x) = \\frac{1}{(2 \\pi)^k \\mid \\Sigma \\mid} \\exp^{- \\frac{1}{2} (x - \\mu)^T \\Sigma^{-1} (x - \\mu)}$"
   ]
  },
  {
   "cell_type": "markdown",
   "metadata": {},
   "source": [
    "asumiendo independencia"
   ]
  },
  {
   "cell_type": "markdown",
   "metadata": {},
   "source": [
    "$p(x | c) = \\frac{1}{\\prod_i 2 \\pi \\sigma^2_{c_i}} \\exp^{- \\frac{1}{2} \\sum_i \\frac{(x - \\mu_{c_i})^2}{\\sigma_{c_i}^2}}$"
   ]
  },
  {
   "cell_type": "code",
   "execution_count": null,
   "metadata": {},
   "outputs": [],
   "source": [
    "X.shape"
   ]
  },
  {
   "cell_type": "code",
   "execution_count": null,
   "metadata": {},
   "outputs": [],
   "source": [
    "mu = np.array([X[y==k].mean(axis=0) for k in np.unique(y)])"
   ]
  },
  {
   "cell_type": "code",
   "execution_count": null,
   "metadata": {},
   "outputs": [],
   "source": [
    "var = np.array([X[y==k].var(axis=0) for k in np.unique(y)])"
   ]
  },
  {
   "cell_type": "code",
   "execution_count": null,
   "metadata": {},
   "outputs": [],
   "source": [
    "var"
   ]
  },
  {
   "cell_type": "code",
   "execution_count": null,
   "metadata": {},
   "outputs": [],
   "source": [
    "def p_naive(x, mu, var):\n",
    "    ta = np.prod(2 * np.pi * var, axis=1)\n",
    "    tb = -0.5 * np.sum((x - mu)**2 / var, axis=1)\n",
    "    return np.exp(tb) / ta"
   ]
  },
  {
   "cell_type": "code",
   "execution_count": null,
   "metadata": {},
   "outputs": [],
   "source": [
    "p_naive(np.array([0.1, 2.3]), mu, var)"
   ]
  },
  {
   "cell_type": "markdown",
   "metadata": {},
   "source": [
    "$p(c \\mid x) = \\frac{p(x \\mid c) p(c)}{p(x)}$"
   ]
  },
  {
   "cell_type": "markdown",
   "metadata": {},
   "source": [
    "$f(x) = \\textsf{arg max}_{c \\in C} p(c \\mid x)$"
   ]
  },
  {
   "cell_type": "code",
   "execution_count": null,
   "metadata": {},
   "outputs": [],
   "source": [
    "_, pc = np.unique(y, return_counts=True)"
   ]
  },
  {
   "cell_type": "code",
   "execution_count": null,
   "metadata": {},
   "outputs": [],
   "source": [
    "pc = pc / pc.sum()"
   ]
  },
  {
   "cell_type": "code",
   "execution_count": null,
   "metadata": {},
   "outputs": [],
   "source": [
    "pc"
   ]
  },
  {
   "cell_type": "code",
   "execution_count": null,
   "metadata": {},
   "outputs": [],
   "source": [
    "p_naive(np.array([0.1, 2.3]), mu, var) * pc"
   ]
  },
  {
   "cell_type": "code",
   "execution_count": null,
   "metadata": {},
   "outputs": [],
   "source": [
    "np.argmax(p_naive(np.array([0.1, 2.3]), mu, var) * pc)"
   ]
  },
  {
   "cell_type": "markdown",
   "metadata": {},
   "source": [
    "$p(x) = \\sum_i p(x \\mid c_i) p(c_i)$"
   ]
  },
  {
   "cell_type": "code",
   "execution_count": null,
   "metadata": {},
   "outputs": [],
   "source": [
    "pp = p_naive(np.array([0.1, 2.3]), mu, var) * pc"
   ]
  },
  {
   "cell_type": "code",
   "execution_count": null,
   "metadata": {},
   "outputs": [],
   "source": [
    "pp / np.sum(pp)"
   ]
  },
  {
   "cell_type": "code",
   "execution_count": null,
   "metadata": {},
   "outputs": [],
   "source": [
    "class NB(object):\n",
    "    def fit(self, X, y):\n",
    "        self.klass, pc = np.unique(y, return_counts=True)\n",
    "        self.pc = pc / pc.sum()\n",
    "        self.mu = np.array([X[y==k].mean(axis=0) for k in self.klass])\n",
    "        self.var = np.array([X[y==k].var(axis=0) for k in self.klass])\n",
    "        return self\n",
    "        \n",
    "    def predict_proba(self, X):\n",
    "        p_naive = []\n",
    "        for _mu, _var in zip(self.mu, self.var):\n",
    "            ta = np.prod(2 * np.pi * _var)\n",
    "            _ = (X - _mu)**2 / _var\n",
    "            tb = -0.5 * np.sum(_, axis=1)\n",
    "            r = np.exp(tb) / ta\n",
    "            p_naive.append(r)\n",
    "        p_naive = np.vstack(p_naive).T * self.pc\n",
    "        return p_naive / np.atleast_2d(p_naive.sum(axis=1)).T \n",
    "    \n",
    "    def predict(self, X):\n",
    "        pp = self.predict_proba(X)\n",
    "        return np.argmax(pp, axis=1)\n",
    "\n",
    "        "
   ]
  },
  {
   "cell_type": "code",
   "execution_count": null,
   "metadata": {},
   "outputs": [],
   "source": [
    "nb = NB().fit(X, y)"
   ]
  },
  {
   "cell_type": "code",
   "execution_count": null,
   "metadata": {},
   "outputs": [],
   "source": [
    "(nb.predict(X) == y).mean()"
   ]
  }
 ],
 "metadata": {
  "kernelspec": {
   "display_name": "Python 3",
   "language": "python",
   "name": "python3"
  },
  "language_info": {
   "codemirror_mode": {
    "name": "ipython",
    "version": 3
   },
   "file_extension": ".py",
   "mimetype": "text/x-python",
   "name": "python",
   "nbconvert_exporter": "python",
   "pygments_lexer": "ipython3",
   "version": "3.6.4"
  }
 },
 "nbformat": 4,
 "nbformat_minor": 2
}
