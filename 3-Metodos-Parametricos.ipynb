{
  "nbformat": 4,
  "nbformat_minor": 0,
  "metadata": {
    "kernelspec": {
      "display_name": "Python 3",
      "language": "python",
      "name": "python3"
    },
    "language_info": {
      "codemirror_mode": {
        "name": "ipython",
        "version": 3
      },
      "file_extension": ".py",
      "mimetype": "text/x-python",
      "name": "python",
      "nbconvert_exporter": "python",
      "pygments_lexer": "ipython3",
      "version": "3.7.1"
    },
    "colab": {
      "name": "3-Metodos-Parametricos.ipynb",
      "provenance": []
    }
  },
  "cells": [
    {
      "cell_type": "markdown",
      "metadata": {
        "id": "58XSDQKzANUB"
      },
      "source": [
        "del github Ingeotec"
      ]
    },
    {
      "cell_type": "code",
      "metadata": {
        "id": "LpY1lJTiAFLp"
      },
      "source": [
        "from sklearn.datasets import make_blobs\n",
        "centers = [(-5, -5), (0, 0), (5, 5), (10, 10)]\n",
        "X, y = make_blobs(n_samples=400, n_features=2, cluster_std=1.0,\n",
        "                  centers=centers, shuffle=False, random_state=42)"
      ],
      "execution_count": null,
      "outputs": []
    },
    {
      "cell_type": "code",
      "metadata": {
        "id": "AXhXyMCAAFLq"
      },
      "source": [
        "%pylab inline"
      ],
      "execution_count": null,
      "outputs": []
    },
    {
      "cell_type": "code",
      "metadata": {
        "id": "gvoZDO6fAFLq"
      },
      "source": [
        "for k in np.unique(y):\n",
        "    pylab.plot(X[y == k, 0], X[y == k, 1], '.')"
      ],
      "execution_count": null,
      "outputs": []
    },
    {
      "cell_type": "markdown",
      "metadata": {
        "id": "EQyZSHnLAFLq"
      },
      "source": [
        ""
      ]
    },
    {
      "cell_type": "markdown",
      "metadata": {
        "id": "cZpN42ttAFLq"
      },
      "source": [
        "# Naive Bayes"
      ]
    },
    {
      "cell_type": "markdown",
      "metadata": {
        "id": "mQXF1cQdAFLq"
      },
      "source": [
        "$p(x) = \\frac{1}{(2 \\pi)^k \\mid \\Sigma \\mid} \\exp^{- \\frac{1}{2} (x - \\mu)^T \\Sigma^{-1} (x - \\mu)}$"
      ]
    },
    {
      "cell_type": "markdown",
      "metadata": {
        "id": "AX07-hCHAFLq"
      },
      "source": [
        "asumiendo independencia"
      ]
    },
    {
      "cell_type": "markdown",
      "metadata": {
        "id": "h2pvfZ_qAFLq"
      },
      "source": [
        "$p(x | c) = \\frac{1}{\\prod_i 2 \\pi \\sigma^2_{c_i}} \\exp^{- \\frac{1}{2} \\sum_i \\frac{(x - \\mu_{c_i})^2}{\\sigma_{c_i}^2}}$"
      ]
    },
    {
      "cell_type": "code",
      "metadata": {
        "id": "DKSWZ7U8AFLq"
      },
      "source": [
        "X.shape"
      ],
      "execution_count": null,
      "outputs": []
    },
    {
      "cell_type": "code",
      "metadata": {
        "id": "d7SId2C-AFLq"
      },
      "source": [
        "mu = np.array([X[y==k].mean(axis=0) for k in np.unique(y)])"
      ],
      "execution_count": null,
      "outputs": []
    },
    {
      "cell_type": "code",
      "metadata": {
        "id": "Ea2-IwV6AFLq"
      },
      "source": [
        "var = np.array([X[y==k].var(axis=0) for k in np.unique(y)])"
      ],
      "execution_count": null,
      "outputs": []
    },
    {
      "cell_type": "code",
      "metadata": {
        "id": "9F25otnRAFLq"
      },
      "source": [
        "var"
      ],
      "execution_count": null,
      "outputs": []
    },
    {
      "cell_type": "code",
      "metadata": {
        "id": "eXpVJzyHAFLq"
      },
      "source": [
        "def p_naive(x, mu, var):\n",
        "    ta = np.prod(2 * np.pi * var, axis=1)\n",
        "    tb = -0.5 * np.sum((x - mu)**2 / var, axis=1)\n",
        "    return np.exp(tb) / ta"
      ],
      "execution_count": null,
      "outputs": []
    },
    {
      "cell_type": "code",
      "metadata": {
        "id": "gNoZvVfoAFLq"
      },
      "source": [
        "p_naive(np.array([0.1, 2.3]), mu, var)"
      ],
      "execution_count": null,
      "outputs": []
    },
    {
      "cell_type": "markdown",
      "metadata": {
        "id": "IueQ8NwGAFLq"
      },
      "source": [
        "$p(c \\mid x) = \\frac{p(x \\mid c) p(c)}{p(x)}$"
      ]
    },
    {
      "cell_type": "markdown",
      "metadata": {
        "id": "GoShVyNIAFLq"
      },
      "source": [
        "$f(x) = \\textsf{arg max}_{c \\in C} p(c \\mid x)$"
      ]
    },
    {
      "cell_type": "code",
      "metadata": {
        "id": "YLVrKw-6AFLq"
      },
      "source": [
        "_, pc = np.unique(y, return_counts=True)"
      ],
      "execution_count": null,
      "outputs": []
    },
    {
      "cell_type": "code",
      "metadata": {
        "id": "RyyLPNf_AFLq"
      },
      "source": [
        "pc = pc / pc.sum()"
      ],
      "execution_count": null,
      "outputs": []
    },
    {
      "cell_type": "code",
      "metadata": {
        "id": "d8YBZ-YyAFLq"
      },
      "source": [
        "pc"
      ],
      "execution_count": null,
      "outputs": []
    },
    {
      "cell_type": "code",
      "metadata": {
        "id": "9BWDLIHbAFLq"
      },
      "source": [
        "p_naive(np.array([0.1, 2.3]), mu, var) * pc"
      ],
      "execution_count": null,
      "outputs": []
    },
    {
      "cell_type": "code",
      "metadata": {
        "id": "E-F-ydEfAFLq"
      },
      "source": [
        "np.argmax(p_naive(np.array([0.1, 2.3]), mu, var) * pc)"
      ],
      "execution_count": null,
      "outputs": []
    },
    {
      "cell_type": "markdown",
      "metadata": {
        "id": "ZyuTHGtXAFLr"
      },
      "source": [
        "$p(x) = \\sum_i p(x \\mid c_i) p(c_i)$"
      ]
    },
    {
      "cell_type": "code",
      "metadata": {
        "id": "MlhSvelAAFLr"
      },
      "source": [
        "pp = p_naive(np.array([0.1, 2.3]), mu, var) * pc"
      ],
      "execution_count": null,
      "outputs": []
    },
    {
      "cell_type": "code",
      "metadata": {
        "id": "p-FOuCKbAFLr"
      },
      "source": [
        "pp / np.sum(pp)"
      ],
      "execution_count": null,
      "outputs": []
    },
    {
      "cell_type": "code",
      "metadata": {
        "id": "3zDdhcwIAFLr"
      },
      "source": [
        "class NB(object):\n",
        "    def fit(self, X, y):\n",
        "        self.klass, pc = np.unique(y, return_counts=True)\n",
        "        self.pc = pc / pc.sum()\n",
        "        self.mu = np.array([X[y==k].mean(axis=0) for k in self.klass])\n",
        "        self.var = np.array([X[y==k].var(axis=0) for k in self.klass])\n",
        "        return self\n",
        "        \n",
        "    def predict_proba(self, X):\n",
        "        p_naive = []\n",
        "        for _mu, _var in zip(self.mu, self.var):\n",
        "            ta = np.prod(2 * np.pi * _var)\n",
        "            _ = (X - _mu)**2 / _var\n",
        "            tb = -0.5 * np.sum(_, axis=1)\n",
        "            r = np.exp(tb) / ta\n",
        "            p_naive.append(r)\n",
        "        p_naive = np.vstack(p_naive).T * self.pc\n",
        "        return p_naive / np.atleast_2d(p_naive.sum(axis=1)).T \n",
        "    \n",
        "    def predict(self, X):\n",
        "        pp = self.predict_proba(X)\n",
        "        return np.argmax(pp, axis=1)\n",
        "\n",
        "        "
      ],
      "execution_count": null,
      "outputs": []
    },
    {
      "cell_type": "code",
      "metadata": {
        "id": "I8wADlAXAFLr"
      },
      "source": [
        "nb = NB().fit(X, y)"
      ],
      "execution_count": null,
      "outputs": []
    },
    {
      "cell_type": "code",
      "metadata": {
        "id": "lFw1v_9SAFLr"
      },
      "source": [
        "(nb.predict(X) == y).mean()"
      ],
      "execution_count": null,
      "outputs": []
    },
    {
      "cell_type": "markdown",
      "metadata": {
        "id": "vG3L6kKdAFLr"
      },
      "source": [
        "# Clasificación de Texto"
      ]
    },
    {
      "cell_type": "code",
      "metadata": {
        "id": "sMeXlqPeAFLr"
      },
      "source": [
        "from microtc.utils import tweet_iterator"
      ],
      "execution_count": null,
      "outputs": []
    },
    {
      "cell_type": "code",
      "metadata": {
        "id": "yblh2jUwAFLr"
      },
      "source": [
        "D = [x for x in tweet_iterator('tweets.json')]"
      ],
      "execution_count": null,
      "outputs": []
    },
    {
      "cell_type": "code",
      "metadata": {
        "id": "HlNmGYwJAFLr"
      },
      "source": [
        "D[0]"
      ],
      "execution_count": null,
      "outputs": []
    },
    {
      "cell_type": "code",
      "metadata": {
        "id": "HrpKTiJ9AFLr"
      },
      "source": [
        "corpus = {}"
      ],
      "execution_count": null,
      "outputs": []
    },
    {
      "cell_type": "code",
      "metadata": {
        "id": "uLjRGE27AFLr"
      },
      "source": [
        "for x in D:\n",
        "    for w in x['text'].split(' '):\n",
        "        try:\n",
        "            _ = corpus[w]\n",
        "        except KeyError:\n",
        "            corpus[w] = len(corpus)"
      ],
      "execution_count": null,
      "outputs": []
    },
    {
      "cell_type": "code",
      "metadata": {
        "id": "esEVLQERAFLr"
      },
      "source": [
        "len(corpus)"
      ],
      "execution_count": null,
      "outputs": []
    },
    {
      "cell_type": "markdown",
      "metadata": {
        "id": "K7PYKET_AFLr"
      },
      "source": [
        "$\\hat{p}_{ci} = \\frac{ \\mid \\{ x \\mid (x, y) \\in \\mathcal X_c, x_i=1 \\}  \\mid}{\\mid \\mathcal X_c \\mid}$\n",
        "\n",
        "y $\\mathcal X_c = \\{ (x, y) \\mid (x, y) \\in \\mathcal X, y=c \\}$"
      ]
    },
    {
      "cell_type": "code",
      "metadata": {
        "id": "51z3uPYhAFLr"
      },
      "source": [
        "from collections import Counter"
      ],
      "execution_count": null,
      "outputs": []
    },
    {
      "cell_type": "code",
      "metadata": {
        "id": "xLz7aGnZAFLr"
      },
      "source": [
        "klass = {v: k for k, v in enumerate(Counter([x['klass'] for x in D]).keys())}"
      ],
      "execution_count": null,
      "outputs": []
    },
    {
      "cell_type": "code",
      "metadata": {
        "id": "fsDB6xWkAFLr"
      },
      "source": [
        "import numpy as np\n",
        "p = np.zeros((4, len(corpus)))"
      ],
      "execution_count": null,
      "outputs": []
    },
    {
      "cell_type": "code",
      "metadata": {
        "id": "sCxdJYtiAFLr"
      },
      "source": [
        "p"
      ],
      "execution_count": null,
      "outputs": []
    },
    {
      "cell_type": "code",
      "metadata": {
        "id": "d_RDlbSYAFLr"
      },
      "source": [
        "for x in D:\n",
        "    i = klass[x['klass']]\n",
        "    for w in x['text'].split(' '):\n",
        "        j = corpus[w]\n",
        "        p[i, j] += 1"
      ],
      "execution_count": null,
      "outputs": []
    },
    {
      "cell_type": "code",
      "metadata": {
        "id": "tKglQT5IAFLr"
      },
      "source": [
        "p = p / np.atleast_2d(p.sum(axis=1)).T"
      ],
      "execution_count": null,
      "outputs": []
    },
    {
      "cell_type": "code",
      "metadata": {
        "id": "4UDDEVYvAFLr"
      },
      "source": [
        "nuevo='buenos dias Aguascalientes'"
      ],
      "execution_count": null,
      "outputs": []
    },
    {
      "cell_type": "code",
      "metadata": {
        "id": "9drWEcpeAFLr"
      },
      "source": [
        "vector = []\n",
        "for w in nuevo.split(' '):\n",
        "    try:\n",
        "        j = corpus[w]\n",
        "        vector.append([j, 1])\n",
        "    except KeyError:\n",
        "        continue\n",
        "    print(j, w)"
      ],
      "execution_count": null,
      "outputs": []
    },
    {
      "cell_type": "code",
      "metadata": {
        "id": "hrOgL2rdAFLr"
      },
      "source": [
        "vector"
      ],
      "execution_count": null,
      "outputs": []
    },
    {
      "cell_type": "code",
      "metadata": {
        "id": "D3GseNhHAFLr"
      },
      "source": [
        "klass"
      ],
      "execution_count": null,
      "outputs": []
    },
    {
      "cell_type": "markdown",
      "metadata": {
        "id": "f_e_ZWTxAFLr"
      },
      "source": [
        "# Regresión"
      ]
    },
    {
      "cell_type": "code",
      "metadata": {
        "id": "omrVqFgYAFLr"
      },
      "source": [
        "import numpy as np"
      ],
      "execution_count": null,
      "outputs": []
    },
    {
      "cell_type": "code",
      "metadata": {
        "id": "LdfUyXSRAFLr"
      },
      "source": [
        "D = np.loadtxt('airfoil_self_noise.dat.txt')"
      ],
      "execution_count": null,
      "outputs": []
    },
    {
      "cell_type": "code",
      "metadata": {
        "id": "80zcfczLAFLr"
      },
      "source": [
        "D.shape"
      ],
      "execution_count": null,
      "outputs": []
    },
    {
      "cell_type": "code",
      "metadata": {
        "id": "kMJuZQqQAFLr"
      },
      "source": [
        "X = D[:, :5]\n",
        "y = D[:, -1]"
      ],
      "execution_count": null,
      "outputs": []
    },
    {
      "cell_type": "code",
      "metadata": {
        "id": "kiejVafmAFLr"
      },
      "source": [
        "X.shape, y.shape"
      ],
      "execution_count": null,
      "outputs": []
    },
    {
      "cell_type": "code",
      "metadata": {
        "id": "shvVNusMAFLr"
      },
      "source": [
        "w = np.linalg.lstsq(X, y)[0]"
      ],
      "execution_count": null,
      "outputs": []
    },
    {
      "cell_type": "code",
      "metadata": {
        "id": "ylu7yEr5AFLr"
      },
      "source": [
        "np.fabs(y - np.dot(X, w))"
      ],
      "execution_count": null,
      "outputs": []
    },
    {
      "cell_type": "code",
      "metadata": {
        "id": "jYuOX-BZAFLr"
      },
      "source": [
        "%pylab inline"
      ],
      "execution_count": null,
      "outputs": []
    },
    {
      "cell_type": "code",
      "metadata": {
        "id": "it0CWqmOAFLs"
      },
      "source": [
        "plot(np.dot(X, w), y, 'o')"
      ],
      "execution_count": null,
      "outputs": []
    },
    {
      "cell_type": "code",
      "metadata": {
        "id": "iRwsyvubAFLs"
      },
      "source": [
        "Xn = np.concatenate((X, np.atleast_2d(X[:, 0] * X[:, 2]).T, np.ones((X.shape[0], 1))), axis=1)\n",
        "w = np.linalg.lstsq(Xn, y)[0]\n",
        "plot(np.dot(Xn, w), y, 'o')"
      ],
      "execution_count": null,
      "outputs": []
    },
    {
      "cell_type": "markdown",
      "metadata": {
        "id": "B7UBn-NxAFLs"
      },
      "source": [
        "# Videos\n",
        "\n",
        "* [Video 1](https://youtu.be/QGRzDdk-Du8)\n",
        "* [Video 2](https://youtu.be/vpb0HM9FYW8)\n",
        "* [Video 3](https://youtu.be/KkkeOhmDCaI)\n",
        "* [Video 4](https://youtu.be/U1F50qGoblk)\n",
        "* [Video 5](https://youtu.be/fhyu-OsmNDw)"
      ]
    },
    {
      "cell_type": "code",
      "metadata": {
        "id": "9l8lX_m7AFLs"
      },
      "source": [
        ""
      ],
      "execution_count": null,
      "outputs": []
    }
  ]
}