{
 "cells": [
  {
   "cell_type": "markdown",
   "metadata": {
    "ein.tags": [
     "worksheet-0"
    ],
    "slideshow": {
     "slide_type": "slide"
    }
   },
   "source": [
    "# Aprendizaje Computacional  \n",
    "\n",
    "## Mario Graff (mgraffg@ieee.org, mario.graff@infotec.mx)  \n",
    "## [https://github.com/ingeotec](https://github.com/ingeotec)\n",
    "## [https://github.com/mgraffg](https://github.com/mgraffg)\n",
    "## CONACYT - INFOTEC "
   ]
  },
  {
   "cell_type": "markdown",
   "metadata": {
    "ein.tags": [
     "worksheet-0"
    ],
    "slideshow": {
     "slide_type": "slide"
    }
   },
   "source": [
    "# Temas\n",
    "\n",
    "1. Introducción\n",
    "2. Aprendizaje supervisado\n",
    "3. Métodos paramétricos\n",
    "4. Métodos no-paramétricos\n",
    "5. Máquinas de kernel\n",
    "6. Métodos no convencionales de aprendizaje\n",
    "7. Diseño y análisis de experimentos de aprendizaje\n",
    "8. Aplicaciones"
   ]
  },
  {
   "cell_type": "markdown",
   "metadata": {
    "ein.tags": [
     "worksheet-0"
    ],
    "slideshow": {
     "slide_type": "slide"
    }
   },
   "source": [
    "# Aprendizaje Supervisado\n",
    "\n",
    "2.1. Introducción  \n",
    "2.2. Aprendizaje como búsqueda  \n",
    "2.3. Definiciones  \n",
    "2.4. Actividades  \n"
   ]
  },
  {
   "cell_type": "markdown",
   "metadata": {
    "ein.tags": [
     "worksheet-0"
    ],
    "slideshow": {
     "slide_type": "slide"
    }
   },
   "source": [
    "# Aprendizaje Supervisado\n",
    "\n",
    "* Encontrar una función $h^*$ que se comporta como $f$\n",
    "* Utilizando lo siguientes elementos  \n",
    "  * $\\mathcal X$ conjunto de entrenamiento\n",
    "  * $\\mathcal V$ conjunto de validación\n",
    "  * $\\mathcal P$ conjunto público o test set"
   ]
  },
  {
   "cell_type": "markdown",
   "metadata": {
    "ein.tags": [
     "worksheet-0"
    ],
    "slideshow": {
     "slide_type": "fragment"
    }
   },
   "source": [
    "* $\\mathcal X=\\{x_t, r_t\\}_t^N$  \n",
    "  $x_t$ representa un objeto  \n",
    "  $r_t=f(x_t)$ es su respuesta"
   ]
  },
  {
   "cell_type": "markdown",
   "metadata": {
    "ein.tags": [
     "worksheet-0"
    ],
    "slideshow": {
     "slide_type": "subslide"
    }
   },
   "source": [
    "# Aprendizaje Supervisado\n",
    "\n",
    "* $\\mathcal H$ clase de hipótesis  \n",
    "* $L$ función de error  \n",
    "* $E(h \\mid \\mathcal X) = \\sum_{x, r \\in \\mathcal X} L(r, h(x))$ error empírico.  \n"
   ]
  },
  {
   "cell_type": "markdown",
   "metadata": {
    "ein.tags": [
     "worksheet-0"
    ],
    "slideshow": {
     "slide_type": "fragment"
    }
   },
   "source": [
    "* $h^* = \\text{argmin}_{h \\in \\mathcal{H}} E(h \\mid \\mathcal X)$"
   ]
  },
  {
   "cell_type": "markdown",
   "metadata": {
    "ein.tags": [
     "worksheet-0"
    ],
    "slideshow": {
     "slide_type": "subslide"
    }
   },
   "source": [
    "# Características\n",
    "\n",
    "* Normalmente $h \\in \\mathcal{H}$ tiene la forma  \n",
    "  $h: (x_1, x_2, \\ldots, x_d) \\rightarrow r$ donde $x_i \\in \\mathbb R$  \n",
    "  * $r \\in \\{0, 1\\}$ en clasificación binaria  \n",
    "  * $r \\in \\{0, 1\\}^K$ en clasificación multi-clase o multi-etiqueta  \n",
    "  * $r \\in \\mathbb R$ para regresión"
   ]
  },
  {
   "cell_type": "markdown",
   "metadata": {
    "ein.tags": [
     "worksheet-0"
    ],
    "slideshow": {
     "slide_type": "slide"
    }
   },
   "source": [
    "# Aprendiendo por ejemplos\n",
    "\n",
    "* Problema binario - dos clases\n",
    "* Diagnóstico médico\n",
    "* Presenta la condición - _ejemplo positivo_\n",
    "* Sano - _ejemplo negativo_ "
   ]
  },
  {
   "cell_type": "markdown",
   "metadata": {
    "ein.tags": [
     "worksheet-0"
    ],
    "slideshow": {
     "slide_type": "subslide"
    }
   },
   "source": [
    "# Representación"
   ]
  },
  {
   "cell_type": "code",
   "execution_count": null,
   "metadata": {
    "autoscroll": "json-false",
    "collapsed": false,
    "ein.tags": [
     "worksheet-0"
    ],
    "slideshow": {
     "slide_type": "fragment"
    }
   },
   "outputs": [],
   "source": [
    "import pandas as pd\n",
    "import numpy as np\n",
    "pos = np.random.multivariate_normal([0, 0.3], \n",
    "                                    [[0.3, 0.1], [0.1, 0.3]], size=100)\n",
    "neg = np.random.multivariate_normal([2.3, -0.3], \n",
    "                                    [[0.1, 0.01], [0.01, 0.3]], size=100)\n",
    "xpos = [x[0] for x in pos[:10]]\n",
    "ypos = [x[1] for x in pos[:10]]\n",
    "x_y_pos = np.array([xpos, ypos, ['Positiva' for x in range(10)]]).T\n",
    "xneg = [x[0] for x in neg[:10]]\n",
    "yneg = [x[1] for x in neg[:10]]\n",
    "x_y_neg = np.array([xneg, yneg, ['Negativa' for x in range(10)]]).T\n",
    "d = np.concatenate([x_y_pos, x_y_neg])\n",
    "pd.DataFrame(d[:10], columns=['x', 'y', 'Clase'])"
   ]
  },
  {
   "cell_type": "markdown",
   "metadata": {
    "ein.tags": [
     "worksheet-0"
    ],
    "slideshow": {
     "slide_type": "subslide"
    }
   },
   "source": [
    "# Clasificación"
   ]
  },
  {
   "cell_type": "code",
   "execution_count": null,
   "metadata": {
    "autoscroll": "json-false",
    "collapsed": false,
    "ein.tags": [
     "worksheet-0"
    ],
    "slideshow": {
     "slide_type": "fragment"
    }
   },
   "outputs": [],
   "source": [
    "%pylab inline\n",
    "pylab.plot([x[0] for x in pos], [x[1] for x in pos], '*')\n",
    "pylab.plot([x[0] for x in neg], [x[1] for x in neg], '*')\n",
    "pylab.legend(['Positiva', 'Negativa'])"
   ]
  },
  {
   "cell_type": "markdown",
   "metadata": {
    "ein.tags": [
     "worksheet-0"
    ],
    "slideshow": {
     "slide_type": "subslide"
    }
   },
   "source": [
    "# Regresión"
   ]
  },
  {
   "cell_type": "code",
   "execution_count": null,
   "metadata": {
    "autoscroll": "json-false",
    "collapsed": false,
    "ein.tags": [
     "worksheet-0"
    ],
    "slideshow": {
     "slide_type": "fragment"
    }
   },
   "outputs": [],
   "source": [
    "x = np.linspace(-10, 10, 100)\n",
    "y = 5.3 * np.sin(12.2 * x) + 2.3 * x - 1.1 * x**2\n",
    "pd.DataFrame((np.vstack([x, y]).T)[:10], columns=['x', 'y'])"
   ]
  },
  {
   "cell_type": "code",
   "execution_count": null,
   "metadata": {
    "autoscroll": "json-false",
    "collapsed": false,
    "ein.tags": [
     "worksheet-0"
    ],
    "slideshow": {
     "slide_type": "subslide"
    }
   },
   "outputs": [],
   "source": [
    "\n",
    "plot(x, y)"
   ]
  },
  {
   "cell_type": "markdown",
   "metadata": {
    "ein.tags": [
     "worksheet-0"
    ],
    "slideshow": {
     "slide_type": "slide"
    }
   },
   "source": [
    "# Clasificación y Regresión\n",
    "* Clasificación  \n",
    "  Sea $\\mathbb Z_2=\\{0, 1\\}$  \n",
    "  $r \\in \\mathbb Z_2$  \n",
    "* Regresión  \n",
    "  $r \\in \\mathbb R$"
   ]
  },
  {
   "cell_type": "markdown",
   "metadata": {
    "ein.tags": [
     "worksheet-0"
    ],
    "slideshow": {
     "slide_type": "subslide"
    }
   },
   "source": [
    "# Clasificación multiclase\n",
    "\n",
    "* $\\mathbf r \\in \\mathbb Z_2^K$  \n",
    "  donde $\\mathbf r_i = 1$ si $\\mathbf x$ pertenece a la clase $i$-ésima  \n",
    "  y $\\forall_{j \\neq i} \\mathbf r_j = 0$\n"
   ]
  },
  {
   "cell_type": "markdown",
   "metadata": {
    "ein.tags": [
     "worksheet-0"
    ],
    "slideshow": {
     "slide_type": "fragment"
    }
   },
   "source": [
    "# Clasificación multietiqueta\n",
    "\n",
    "* $\\mathbf r \\in \\mathbb Z_2^K$  \n",
    "  donde $\\mathbf r_i = 1$ si $\\mathbf x$ pertenece a la clase $i$-ésima\n",
    "* la instancia $\\mathbf x$ puede pertenecer a una o mas clases."
   ]
  },
  {
   "cell_type": "markdown",
   "metadata": {
    "ein.tags": [
     "worksheet-0"
    ],
    "slideshow": {
     "slide_type": "fragment"
    }
   },
   "source": [
    "# Hipótesis y error empírico\n",
    "\n",
    "* $\\mathbf h = (h_1, h_2, \\ldots, h_K)$ donde $h_i \\in \\mathcal H$  \n",
    "  Hay una hipótesis $h_i$ por cada clase\n",
    "* $E(\\mathbf h | \\mathcal X) = \\sum_i^K E(h_i | \\mathcal X)$"
   ]
  },
  {
   "cell_type": "markdown",
   "metadata": {
    "ein.tags": [
     "worksheet-0"
    ],
    "slideshow": {
     "slide_type": "slide"
    }
   },
   "source": [
    "# Definiciones\n",
    "\n",
    "* Problema mal formulado  \n",
    "* Sesgo - _inductive bias_  \n",
    "* Generalización  \n",
    "* _Underfitting_  \n",
    "* Sobre-entrenamiento - _Overfitting_\n",
    "* Conjuntos de entrenamiento, validación y prueba\n",
    "* Validación cruzada - _cross-validation_"
   ]
  },
  {
   "cell_type": "markdown",
   "metadata": {
    "ein.tags": [
     "worksheet-0"
    ],
    "slideshow": {
     "slide_type": "subslide"
    }
   },
   "source": [
    "# Problema mal formulado\n",
    "\n",
    "* Recordemos que se tiene $\\mathcal X$  \n",
    "* $N = |\\mathcal X|$\n",
    "* $\\mathbf x \\in \\mathbb R^d$\n",
    "* Para un problema binario  \n",
    "  hay $2^d$ posibles entradas  \n",
    "* Por lo general $N < 2^d$  \n",
    "* No es posible identificar con $N$ evaluaciones  \n",
    "  la función generadora. "
   ]
  },
  {
   "cell_type": "markdown",
   "metadata": {
    "ein.tags": [
     "worksheet-0"
    ],
    "slideshow": {
     "slide_type": "subslide"
    }
   },
   "source": [
    "# Sesgo - _Inductive Bias_  \n",
    "* ej. en Regresión\n",
    "* $\\mathcal H = \\{ \\mathbf w \\cdot \\mathbf x + b ~| \\mathbf w \\in \\mathbb R^d, b \\in \\mathbb R \\}$\n",
    "* Dado $\\mathcal X$ entonces $h$ se identifica obteniendo  \n",
    "  $\\mathbf w$ y $b$ lo cual se puede hacer con mínimos cuadrados"
   ]
  },
  {
   "cell_type": "markdown",
   "metadata": {
    "ein.tags": [
     "worksheet-0"
    ],
    "slideshow": {
     "slide_type": "subslide"
    }
   },
   "source": [
    "# Generalización\n",
    "\n",
    "* Sea $h$ tal que $\\forall_{(x, r) \\in \\mathcal X} r = h(x)$  \n",
    "  se apredió todo el conjunto de entrenamiento  \n",
    "* Sea $\\mathcal T=\\{\\mathbf x_t, r_t \\}_t^M$\n",
    "  donde $\\mathcal X \\cap \\mathcal T = \\emptyset$  \n",
    "* se quiere $E(h | \\mathcal T) \\approx 0$"
   ]
  },
  {
   "cell_type": "markdown",
   "metadata": {
    "ein.tags": [
     "worksheet-0"
    ],
    "slideshow": {
     "slide_type": "subslide"
    }
   },
   "source": [
    "# Subentrenamiento - _Underfitting_\n",
    "\n",
    "* $E(h | \\mathcal X) \\gg 0$  \n",
    "* $E(h | \\mathcal T) \\gg 0$"
   ]
  },
  {
   "cell_type": "markdown",
   "metadata": {
    "ein.tags": [
     "worksheet-0"
    ],
    "slideshow": {
     "slide_type": "fragment"
    }
   },
   "source": [
    "# Sobre-entrenamiento - _Overfitting_\n",
    "\n",
    "* $E(h | \\mathcal X) \\leq \\epsilon$  \n",
    "* $E(h | \\mathcal T) \\gg 0$"
   ]
  },
  {
   "cell_type": "markdown",
   "metadata": {
    "ein.tags": [
     "worksheet-0"
    ],
    "slideshow": {
     "slide_type": "subslide"
    }
   },
   "source": [
    "# Conjuntos de entrenamiento, validación y prueba\n",
    "\n",
    "* Entrenamiento - $\\mathcal X$\n",
    "* Validación - $\\mathcal V$\n",
    "* Prueba - $\\mathcal T$\n",
    "* $\\mathcal X \\cap \\mathcal V \\cap \\mathcal T = \\emptyset$"
   ]
  },
  {
   "cell_type": "markdown",
   "metadata": {
    "ein.tags": [
     "worksheet-0"
    ],
    "slideshow": {
     "slide_type": "fragment"
    }
   },
   "source": [
    "# Conjuntos de entrenamiento y validación  \n",
    "\n",
    "* Sea $h(\\mathbf x) = g(\\mathbf x | \\theta)$  \n",
    "* $\\mathcal X$ se usa para identificar $\\theta$  \n",
    "* $\\mathcal V$ se usa para:  \n",
    "  $\\text{argmin}_{g \\in \\mathcal H} E(g | \\mathcal V)$"
   ]
  },
  {
   "cell_type": "markdown",
   "metadata": {
    "ein.tags": [
     "worksheet-0"
    ],
    "slideshow": {
     "slide_type": "slide"
    }
   },
   "source": [
    "# Actividades\n",
    "\n",
    "1. Leer de _Introduction to Machine Learning_\n",
    "* Secciones: 2.1, 2.4, 2.5, 2.6, 2.7 y 2.8  \n",
    "2. Dar un ejemplo de un algoritmo que siempre sobre-entrene"
   ]
  }
 ],
 "metadata": {
  "kernelspec": {
   "display_name": "Python 3",
   "language": "python",
   "name": "python3"
  },
  "language_info": {
   "codemirror_mode": {
    "name": "ipython",
    "version": 3
   },
   "file_extension": ".py",
   "mimetype": "text/x-python",
   "name": "python",
   "nbconvert_exporter": "python",
   "pygments_lexer": "ipython3",
   "version": "3.6.4"
  },
  "name": "2-Aprendizaje-Supervisado.ipynb"
 },
 "nbformat": 4,
 "nbformat_minor": 2
}
